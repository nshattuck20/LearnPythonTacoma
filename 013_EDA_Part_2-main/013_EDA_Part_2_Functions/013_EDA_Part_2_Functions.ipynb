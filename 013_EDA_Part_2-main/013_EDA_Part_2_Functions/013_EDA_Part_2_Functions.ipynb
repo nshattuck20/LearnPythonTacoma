{
 "cells": [
  {
   "cell_type": "markdown",
   "metadata": {},
   "source": [
    "# EDA Part 2 & Functions\n",
    "\n",
    "<img src='graphics/automation.jpg' width = 600>\n",
    "\n",
    "In the last meet-up, we introduced Exploratory Data Analysis (EDA). The importance of this step (examining, cleaning and questioning) cannot be understated. Thus, we will spend the first part of this meet-up working in teams to conduct our own EDA on a new set of data.\n",
    "\n",
    "A data scientist’s workflow can be broken down into six components:\n",
    "1. Define the problem (covered two sections from here)\n",
    "1. Gather the data (done for you)\n",
    "1. Explore the data (our focus for today)\n",
    "1. Model with the data\n",
    "1. Evaluate the model\n",
    "1. Answer the problem\n",
    "\n",
    "This workflow is not a linear process. It involves (in many cases) multiple back and forths between all the different parts of the process.\n",
    "\n",
    "## The Dataset\n",
    "The dataset 'India air quality data' is from the Kaggle challenge [\"India Air Quality Data\"](https://www.kaggle.com/shrutibhargava94/india-air-quality-data). The dataset is located in the data folder. \n",
    "\n",
    "The dataset consists of the following columns:\n",
    "\n",
    "- stn_code\n",
    "- sampling_date\n",
    "- state *State*\n",
    "- location *City*\n",
    "- agency\n",
    "- type *Area category*\n",
    "- so2 *Sulphur dioxde*\n",
    "- no2 *Nitrogen dioxide*\n",
    "- rspm *Respirable Suspended Particulate Matter*\n",
    "- spm *Suspended Particulate Matter*\n",
    "- location_monitoring_station *location of monitoring area*\n",
    "- pm2_5 *PSI 2.5*\n",
    "- date *Date of recording*\n",
    "\n",
    "## Our Analysis Question\n",
    "As with any project, we need to know what is the question we are trying to answer. In this challenge, we want to know the air quality of India (which is actually worse than China's, but we want to learn how bad is the air quality.) \n",
    "\n",
    "\n",
    "The goals of this challenge are to  \n",
    "1. Clean the dataset to address the project question\n",
    "1. Establish visualizations of the data\n",
    "\n",
    "I will not tell you more about the dataset, so that this is truly an EDA for you.\n",
    "\n",
    "## Exercise 1: Load the necessary libraries and dataset\n",
    "\n",
    "You need to load the necessary libraries in order to \n",
    "1. Read the data into a DataFrame\n",
    "1. Plot the data in both Matplotlib and Seaborn"
   ]
  },
  {
   "cell_type": "code",
   "execution_count": 43,
   "metadata": {
    "ExecuteTime": {
     "end_time": "2020-02-05T14:57:03.556492Z",
     "start_time": "2020-02-05T14:57:01.154486Z"
    }
   },
   "outputs": [
    {
     "name": "stderr",
     "output_type": "stream",
     "text": [
      "UsageError: unrecognized arguments: # print inside jupyter notebook\n"
     ]
    }
   ],
   "source": [
    "# Write your code here to load the libraries and load the dataset. \n",
    "import pandas as pd\n",
    "import matplotlib.pyplot as plt # more basic visualization\n",
    "import matplotlib.style \n",
    "%matplotlib inline # print inside jupyter notebook \n",
    "plt.style.use('fivethirtyeight') # import stylesheet for fivethirtyeeight\n",
    "import seaborn as sns # built off matplotlib\n",
    "sns.set(style='darkgrid')\n",
    "\n",
    "import warnings\n",
    "warnings.filterwarnings('ignore')\n",
    "df = pd.read_csv('data/data.csv')\n",
    "display(df)\n",
    "\n"
   ]
  },
  {
   "cell_type": "code",
   "execution_count": null,
   "metadata": {},
   "outputs": [],
   "source": [
    "# Exercise 2: Initial Data Examination\n",
    "\n",
    "There are six fundamental things we look at initially. In the next block, write the code to print out each of these six fundamental examinations, placing a title to each on a separate line from the actual data. "
   ]
  },
  {
   "cell_type": "code",
   "execution_count": 44,
   "metadata": {
    "ExecuteTime": {
     "end_time": "2020-02-05T14:57:23.072049Z",
     "start_time": "2020-02-05T14:57:22.689573Z"
    },
    "scrolled": false
   },
   "outputs": [
    {
     "name": "stdout",
     "output_type": "stream",
     "text": [
      "DataFrame Shape:\n",
      " (435742, 9) \n",
      "\n",
      "\n"
     ]
    },
    {
     "data": {
      "text/plain": [
       "'DataFrame Head:'"
      ]
     },
     "metadata": {},
     "output_type": "display_data"
    },
    {
     "data": {
      "text/html": [
       "<div>\n",
       "<style scoped>\n",
       "    .dataframe tbody tr th:only-of-type {\n",
       "        vertical-align: middle;\n",
       "    }\n",
       "\n",
       "    .dataframe tbody tr th {\n",
       "        vertical-align: top;\n",
       "    }\n",
       "\n",
       "    .dataframe thead th {\n",
       "        text-align: right;\n",
       "    }\n",
       "</style>\n",
       "<table border=\"1\" class=\"dataframe\">\n",
       "  <thead>\n",
       "    <tr style=\"text-align: right;\">\n",
       "      <th></th>\n",
       "      <th>state</th>\n",
       "      <th>location</th>\n",
       "      <th>type</th>\n",
       "      <th>so2</th>\n",
       "      <th>no2</th>\n",
       "      <th>rspm</th>\n",
       "      <th>spm</th>\n",
       "      <th>pm2_5</th>\n",
       "      <th>date</th>\n",
       "    </tr>\n",
       "  </thead>\n",
       "  <tbody>\n",
       "    <tr>\n",
       "      <th>0</th>\n",
       "      <td>Andhra Pradesh</td>\n",
       "      <td>Hyderabad</td>\n",
       "      <td>Residential, Rural and other Areas</td>\n",
       "      <td>4.8</td>\n",
       "      <td>17.4</td>\n",
       "      <td>NaN</td>\n",
       "      <td>NaN</td>\n",
       "      <td>NaN</td>\n",
       "      <td>2/1/90</td>\n",
       "    </tr>\n",
       "    <tr>\n",
       "      <th>1</th>\n",
       "      <td>Andhra Pradesh</td>\n",
       "      <td>Hyderabad</td>\n",
       "      <td>Industrial Area</td>\n",
       "      <td>3.1</td>\n",
       "      <td>7.0</td>\n",
       "      <td>NaN</td>\n",
       "      <td>NaN</td>\n",
       "      <td>NaN</td>\n",
       "      <td>2/1/90</td>\n",
       "    </tr>\n",
       "    <tr>\n",
       "      <th>2</th>\n",
       "      <td>Andhra Pradesh</td>\n",
       "      <td>Hyderabad</td>\n",
       "      <td>Residential, Rural and other Areas</td>\n",
       "      <td>6.2</td>\n",
       "      <td>28.5</td>\n",
       "      <td>NaN</td>\n",
       "      <td>NaN</td>\n",
       "      <td>NaN</td>\n",
       "      <td>2/1/90</td>\n",
       "    </tr>\n",
       "    <tr>\n",
       "      <th>3</th>\n",
       "      <td>Andhra Pradesh</td>\n",
       "      <td>Hyderabad</td>\n",
       "      <td>Residential, Rural and other Areas</td>\n",
       "      <td>6.3</td>\n",
       "      <td>14.7</td>\n",
       "      <td>NaN</td>\n",
       "      <td>NaN</td>\n",
       "      <td>NaN</td>\n",
       "      <td>3/1/90</td>\n",
       "    </tr>\n",
       "    <tr>\n",
       "      <th>4</th>\n",
       "      <td>Andhra Pradesh</td>\n",
       "      <td>Hyderabad</td>\n",
       "      <td>Industrial Area</td>\n",
       "      <td>4.7</td>\n",
       "      <td>7.5</td>\n",
       "      <td>NaN</td>\n",
       "      <td>NaN</td>\n",
       "      <td>NaN</td>\n",
       "      <td>3/1/90</td>\n",
       "    </tr>\n",
       "  </tbody>\n",
       "</table>\n",
       "</div>"
      ],
      "text/plain": [
       "            state   location                                type  so2   no2  \\\n",
       "0  Andhra Pradesh  Hyderabad  Residential, Rural and other Areas  4.8  17.4   \n",
       "1  Andhra Pradesh  Hyderabad                     Industrial Area  3.1   7.0   \n",
       "2  Andhra Pradesh  Hyderabad  Residential, Rural and other Areas  6.2  28.5   \n",
       "3  Andhra Pradesh  Hyderabad  Residential, Rural and other Areas  6.3  14.7   \n",
       "4  Andhra Pradesh  Hyderabad                     Industrial Area  4.7   7.5   \n",
       "\n",
       "   rspm  spm  pm2_5    date  \n",
       "0   NaN  NaN    NaN  2/1/90  \n",
       "1   NaN  NaN    NaN  2/1/90  \n",
       "2   NaN  NaN    NaN  2/1/90  \n",
       "3   NaN  NaN    NaN  3/1/90  \n",
       "4   NaN  NaN    NaN  3/1/90  "
      ]
     },
     "metadata": {},
     "output_type": "display_data"
    },
    {
     "data": {
      "text/plain": [
       "'DataFrame Sample:'"
      ]
     },
     "metadata": {},
     "output_type": "display_data"
    },
    {
     "data": {
      "text/html": [
       "<div>\n",
       "<style scoped>\n",
       "    .dataframe tbody tr th:only-of-type {\n",
       "        vertical-align: middle;\n",
       "    }\n",
       "\n",
       "    .dataframe tbody tr th {\n",
       "        vertical-align: top;\n",
       "    }\n",
       "\n",
       "    .dataframe thead th {\n",
       "        text-align: right;\n",
       "    }\n",
       "</style>\n",
       "<table border=\"1\" class=\"dataframe\">\n",
       "  <thead>\n",
       "    <tr style=\"text-align: right;\">\n",
       "      <th></th>\n",
       "      <th>state</th>\n",
       "      <th>location</th>\n",
       "      <th>type</th>\n",
       "      <th>so2</th>\n",
       "      <th>no2</th>\n",
       "      <th>rspm</th>\n",
       "      <th>spm</th>\n",
       "      <th>pm2_5</th>\n",
       "      <th>date</th>\n",
       "    </tr>\n",
       "  </thead>\n",
       "  <tbody>\n",
       "    <tr>\n",
       "      <th>20817</th>\n",
       "      <td>Andhra Pradesh</td>\n",
       "      <td>Visakhapatnam</td>\n",
       "      <td>Industrial Area</td>\n",
       "      <td>18.0</td>\n",
       "      <td>34.0</td>\n",
       "      <td>22.0</td>\n",
       "      <td>NaN</td>\n",
       "      <td>NaN</td>\n",
       "      <td>10/26/13</td>\n",
       "    </tr>\n",
       "    <tr>\n",
       "      <th>364819</th>\n",
       "      <td>Telangana</td>\n",
       "      <td>Hyderabad</td>\n",
       "      <td>Sensitive Area</td>\n",
       "      <td>4.0</td>\n",
       "      <td>16.0</td>\n",
       "      <td>78.0</td>\n",
       "      <td>NaN</td>\n",
       "      <td>NaN</td>\n",
       "      <td>8/25/14</td>\n",
       "    </tr>\n",
       "    <tr>\n",
       "      <th>25508</th>\n",
       "      <td>Andhra Pradesh</td>\n",
       "      <td>Vijayawada</td>\n",
       "      <td>Residential, Rural and other Areas</td>\n",
       "      <td>6.0</td>\n",
       "      <td>41.0</td>\n",
       "      <td>126.0</td>\n",
       "      <td>NaN</td>\n",
       "      <td>NaN</td>\n",
       "      <td>10/4/15</td>\n",
       "    </tr>\n",
       "    <tr>\n",
       "      <th>243194</th>\n",
       "      <td>Maharashtra</td>\n",
       "      <td>Pune</td>\n",
       "      <td>Residential, Rural and other Areas</td>\n",
       "      <td>44.0</td>\n",
       "      <td>51.0</td>\n",
       "      <td>230.0</td>\n",
       "      <td>NaN</td>\n",
       "      <td>NaN</td>\n",
       "      <td>12/31/13</td>\n",
       "    </tr>\n",
       "    <tr>\n",
       "      <th>171753</th>\n",
       "      <td>Kerala</td>\n",
       "      <td>Wayanad</td>\n",
       "      <td>Sensitive Area</td>\n",
       "      <td>2.0</td>\n",
       "      <td>4.5</td>\n",
       "      <td>45.0</td>\n",
       "      <td>NaN</td>\n",
       "      <td>NaN</td>\n",
       "      <td>8/26/13</td>\n",
       "    </tr>\n",
       "    <tr>\n",
       "      <th>41804</th>\n",
       "      <td>Assam</td>\n",
       "      <td>Guwahati</td>\n",
       "      <td>Residential, Rural and other Areas</td>\n",
       "      <td>8.0</td>\n",
       "      <td>14.0</td>\n",
       "      <td>50.0</td>\n",
       "      <td>NaN</td>\n",
       "      <td>NaN</td>\n",
       "      <td>10/7/14</td>\n",
       "    </tr>\n",
       "    <tr>\n",
       "      <th>64336</th>\n",
       "      <td>Chhattisgarh</td>\n",
       "      <td>Raipur</td>\n",
       "      <td>Residential, Rural and other Areas</td>\n",
       "      <td>12.0</td>\n",
       "      <td>34.0</td>\n",
       "      <td>164.0</td>\n",
       "      <td>NaN</td>\n",
       "      <td>NaN</td>\n",
       "      <td>9/8/15</td>\n",
       "    </tr>\n",
       "    <tr>\n",
       "      <th>99175</th>\n",
       "      <td>Gujarat</td>\n",
       "      <td>Vadodara</td>\n",
       "      <td>Residential, Rural and other Areas</td>\n",
       "      <td>9.0</td>\n",
       "      <td>12.0</td>\n",
       "      <td>47.0</td>\n",
       "      <td>22.0</td>\n",
       "      <td>NaN</td>\n",
       "      <td>5/8/13</td>\n",
       "    </tr>\n",
       "    <tr>\n",
       "      <th>237736</th>\n",
       "      <td>Maharashtra</td>\n",
       "      <td>Dombivli</td>\n",
       "      <td>Industrial Area</td>\n",
       "      <td>19.0</td>\n",
       "      <td>75.0</td>\n",
       "      <td>107.0</td>\n",
       "      <td>NaN</td>\n",
       "      <td>NaN</td>\n",
       "      <td>2/14/13</td>\n",
       "    </tr>\n",
       "    <tr>\n",
       "      <th>9370</th>\n",
       "      <td>Andhra Pradesh</td>\n",
       "      <td>Hyderabad</td>\n",
       "      <td>Residential and others</td>\n",
       "      <td>5.2</td>\n",
       "      <td>28.3</td>\n",
       "      <td>119.0</td>\n",
       "      <td>343.0</td>\n",
       "      <td>NaN</td>\n",
       "      <td>11/2/09</td>\n",
       "    </tr>\n",
       "  </tbody>\n",
       "</table>\n",
       "</div>"
      ],
      "text/plain": [
       "                 state       location                                type  \\\n",
       "20817   Andhra Pradesh  Visakhapatnam                     Industrial Area   \n",
       "364819       Telangana      Hyderabad                      Sensitive Area   \n",
       "25508   Andhra Pradesh     Vijayawada  Residential, Rural and other Areas   \n",
       "243194     Maharashtra           Pune  Residential, Rural and other Areas   \n",
       "171753          Kerala        Wayanad                      Sensitive Area   \n",
       "41804            Assam       Guwahati  Residential, Rural and other Areas   \n",
       "64336     Chhattisgarh         Raipur  Residential, Rural and other Areas   \n",
       "99175          Gujarat       Vadodara  Residential, Rural and other Areas   \n",
       "237736     Maharashtra       Dombivli                     Industrial Area   \n",
       "9370    Andhra Pradesh      Hyderabad              Residential and others   \n",
       "\n",
       "         so2   no2   rspm    spm  pm2_5      date  \n",
       "20817   18.0  34.0   22.0    NaN    NaN  10/26/13  \n",
       "364819   4.0  16.0   78.0    NaN    NaN   8/25/14  \n",
       "25508    6.0  41.0  126.0    NaN    NaN   10/4/15  \n",
       "243194  44.0  51.0  230.0    NaN    NaN  12/31/13  \n",
       "171753   2.0   4.5   45.0    NaN    NaN   8/26/13  \n",
       "41804    8.0  14.0   50.0    NaN    NaN   10/7/14  \n",
       "64336   12.0  34.0  164.0    NaN    NaN    9/8/15  \n",
       "99175    9.0  12.0   47.0   22.0    NaN    5/8/13  \n",
       "237736  19.0  75.0  107.0    NaN    NaN   2/14/13  \n",
       "9370     5.2  28.3  119.0  343.0    NaN   11/2/09  "
      ]
     },
     "metadata": {},
     "output_type": "display_data"
    },
    {
     "name": "stdout",
     "output_type": "stream",
     "text": [
      "\n",
      "\n",
      "DataFrame Statistical Description:\n",
      "                  so2            no2           rspm            spm        pm2_5\n",
      "count  401096.000000  419509.000000  395520.000000  198355.000000  9314.000000\n",
      "mean       10.829414      25.809623     108.832784     220.783480    40.791467\n",
      "std        11.177187      18.503086      74.872430     151.395457    30.832525\n",
      "min         0.000000       0.000000       0.000000       0.000000     3.000000\n",
      "25%         5.000000      14.000000      56.000000     111.000000    24.000000\n",
      "50%         8.000000      22.000000      90.000000     187.000000    32.000000\n",
      "75%        13.700000      32.200000     142.000000     296.000000    46.000000\n",
      "max       909.000000     876.000000    6307.033333    3380.000000   504.000000 \n",
      "\n",
      "\n",
      "DataFrame Column Types:\n",
      " state        object\n",
      "location     object\n",
      "type         object\n",
      "so2         float64\n",
      "no2         float64\n",
      "rspm        float64\n",
      "spm         float64\n",
      "pm2_5       float64\n",
      "date         object\n",
      "dtype: object \n",
      "\n",
      "\n",
      "\n",
      "DataFrame count \n",
      " state       435742\n",
      "location    435739\n",
      "type        430349\n",
      "so2         401096\n",
      "no2         419509\n",
      "rspm        395520\n",
      "spm         198355\n",
      "pm2_5         9314\n",
      "date        435735\n",
      "dtype: int64\n",
      "\n",
      "\n",
      "DataFrame Null Value Count:\n",
      " state            0\n",
      "location         3\n",
      "type          5393\n",
      "so2          34646\n",
      "no2          16233\n",
      "rspm         40222\n",
      "spm         237387\n",
      "pm2_5       426428\n",
      "date             7\n",
      "dtype: int64\n",
      "\n",
      "\n",
      "Number of Duplicated Rows:\n",
      " 1135\n"
     ]
    }
   ],
   "source": [
    "# Write your code here\n",
    "print('DataFrame Shape:\\n', df.shape, '\\n\\n')\n",
    "display('DataFrame Head:', df.head())\n",
    "display('DataFrame Sample:', df.sample(10))\n",
    "print('\\n\\nDataFrame Statistical Description:\\n', df.describe(), '\\n\\n')\n",
    "print('DataFrame Column Types:\\n', df.dtypes, '\\n\\n')\n",
    "print('\\nDataFrame count', '\\n', df.count())\n",
    "print('\\n\\nDataFrame Null Value Count:\\n', df.isnull().sum())\n",
    "print('\\n\\nNumber of Duplicated Rows:\\n', df.duplicated().sum())"
   ]
  },
  {
   "cell_type": "markdown",
   "metadata": {},
   "source": [
    "# A Bit of Cleaning\n",
    "\n",
    "Now that we have a sense of the data, let's begin cleaning the data.\n",
    "\n",
    "## Exercise 3: Dropping some unnecessary columns\n",
    "There are a few columns which we just don't need because they won't add to our eventual analysis. \n",
    "- stn_code\n",
    "- agency\n",
    "- sampling_date\n",
    "- location_monitoring_station \n",
    "\n",
    "In the next block, write the code to **drop** these columns. As a team, you will want to do a bit of investigation into `.drop( )` as it relates to columns. You can drop all of the columns that you want to drop in one line of code. "
   ]
  },
  {
   "cell_type": "code",
   "execution_count": 45,
   "metadata": {
    "ExecuteTime": {
     "end_time": "2020-02-05T14:57:52.490856Z",
     "start_time": "2020-02-05T14:57:52.433400Z"
    }
   },
   "outputs": [
    {
     "data": {
      "text/plain": [
       "state               object\n",
       "location            object\n",
       "type                object\n",
       "so2                float64\n",
       "no2                float64\n",
       "rspm               float64\n",
       "spm                float64\n",
       "pm2_5              float64\n",
       "date        datetime64[ns]\n",
       "dtype: object"
      ]
     },
     "execution_count": 45,
     "metadata": {},
     "output_type": "execute_result"
    }
   ],
   "source": [
    "# Write your code here\n",
    "# df = df.drop(columns=['stn_code', 'agency', 'sampling_date', 'location_monitoring_station'])\n",
    "df['date'] = pd.to_datetime(df['date'])\n",
    "\n",
    "df.dtypes\n"
   ]
  },
  {
   "cell_type": "markdown",
   "metadata": {},
   "source": [
    "## Exercise 4: Are the text entries correct?\n",
    "\n",
    "Digging deeper on our remaining columns, we notice that state, location and type are text entries. But do we know if there are misspellings? We don't until we look at them. \n",
    "\n",
    "In the next block, write a loop that prints out the **unique** values for each of text columns. Make sure that we write the code to make it easy for a human to read the output. This means printing the name of the column, followed by a colon, and on the next line print out the unique values. As a team, you will want to look at the `.unique( )` command again. "
   ]
  },
  {
   "cell_type": "code",
   "execution_count": 56,
   "metadata": {
    "ExecuteTime": {
     "end_time": "2020-02-05T14:58:26.255448Z",
     "start_time": "2020-02-05T14:58:26.186675Z"
    },
    "scrolled": false
   },
   "outputs": [
    {
     "name": "stdout",
     "output_type": "stream",
     "text": [
      "state:\n",
      " ['Andhra Pradesh' 'Arunachal Pradesh' 'Assam' 'Bihar' 'Chandigarh'\n",
      " 'Chhattisgarh' 'Dadra & Nagar Haveli' 'Daman & Diu' 'Delhi' 'Goa'\n",
      " 'Gujarat' 'Haryana' 'Himachal Pradesh' 'Jammu & Kashmir' 'Jharkhand'\n",
      " 'Karnataka' 'Kerala' 'Madhya Pradesh' 'Maharashtra' 'Manipur' 'Meghalaya'\n",
      " 'Mizoram' 'Nagaland' 'Odisha' 'Puducherry' 'Punjab' 'Rajasthan' 'Sikkim'\n",
      " 'Tamil Nadu' 'Telangana' 'Uttar Pradesh' 'Uttarakhand' 'Uttaranchal'\n",
      " 'West Bengal' 'andaman-and-nicobar-islands' 'Lakshadweep' 'Tripura'] \n",
      "\n",
      "\n",
      "location:\n",
      " ['Hyderabad' 'Vishakhapatnam' 'Visakhapatnam' 'Tirupati' 'Vijayawada'\n",
      " 'Patancheru' 'Ramagundam' 'Kurnool' 'Guntur' 'Nalgonda' 'Nellore'\n",
      " 'Warangal' 'Chittoor' 'Khammam' 'Kakinada' 'Ananthapur' 'Eluru' 'Kadapa'\n",
      " 'Karimnagar' 'Nizamabad' 'Ongole' 'Rajahmundry' 'Sangareddy' 'Srikakulam'\n",
      " 'Vizianagaram' 'Itanagar' 'Naharlagun' 'Guwahati' 'Bongaigaon'\n",
      " 'Dibrugarh' 'Golaghat' 'Hailakandi' 'Sibsagar' 'Tezpur' 'Silchar'\n",
      " 'Daranga' 'Lakhimpur' 'Nagaon' 'Nalbari' 'Sivasagar' 'Silcher' 'Tinsukia'\n",
      " 'Margherita' 'Sindri' 'Jharia' 'Dhanbad' 'Jamshedpur' 'Patna'\n",
      " 'Chandigarh' 'Korba' 'Bhilai Nagar' 'Raipur' 'Bhilai' 'Bilaspur' 'Daman'\n",
      " 'Silvassa' 'Khadoli' 'Daman Diu & Nagar' 'Delhi' 'Ponda' 'Vasco' 'Panjim'\n",
      " 'Panaji' 'Mormugao' 'Amona' 'Assanora' 'Bicholim' 'Codli' 'Curchorem'\n",
      " 'Honda' 'Usgao' 'Kundaim' 'Mapusa' 'Margao' 'Sanguem' 'Tilamol'\n",
      " 'Cuncolim' 'Baroda' 'Surat' 'Ahmedabad' 'Vapi' 'Ankleshwar' 'Rajkot'\n",
      " 'Bharuch' 'Jamnagar' 'Vadodara' 'Anklesvar' 'ANKLESHWAR' 'VAPI' 'Bhuj'\n",
      " 'MORBI' 'SANAND' 'Sarigam' 'Faridabad' 'Yamuna Nagar' 'Dharuhera' 'Hisar'\n",
      " 'Yamunanagar' 'Shimla' 'Paonta Sahib' 'Parwanoo' 'Damtal' 'Baddi' 'Nahan'\n",
      " 'Nalagarh' 'Kala Amb' 'Manali' 'Sunder Nagar' 'Una' 'Dharamshala' 'Jammu'\n",
      " 'Ranchi' 'West Singhbhum' 'Saraikela Kharsawan' 'Mysore' 'Bangalore'\n",
      " 'Belgaum' 'Gulbarga' 'Hassan' 'Hubli-Dharwad' 'Mangalore' 'Davangere'\n",
      " 'Dharwad' 'Hubli' 'Bidar' 'Domlur' 'Chitradurga' 'Ranebennur' 'Kolar'\n",
      " 'Mandya' 'Raichur' 'Shimoga' 'Tumkur' 'Bijapur' 'Cochin' 'Kotttayam'\n",
      " 'Kottayam' 'Kozhikode' 'Trivendrum' 'Palakkad' 'Kochi' 'Trivandrum'\n",
      " 'Alappuzha' 'Kollam' 'Malappuram' 'Thiruvananthapuram' 'Pathanamthitta'\n",
      " 'Thissur' 'Wayanad' 'Nagda' 'Satna' 'Indore' 'Bhopal' 'Jabalpur'\n",
      " 'Gwalior' 'Ujjain' 'Dewas' 'Khajuraho' 'Sagar' 'Singrauli' 'Chhindwara'\n",
      " 'Amlai' 'Pithampur' 'Pune' 'Bombay' 'Nagpur' 'Chandarpur' 'Aurangabad'\n",
      " 'Chandrapur' 'Nashik' 'Dombivli' 'Solapur' 'Thane' 'Mumbai'\n",
      " 'Aurangabad (MS)' 'Greater Mumbai' 'Kolhapur' 'Amravati' 'Lote'\n",
      " 'Navi Mumbai' 'Tarapur' 'Mahad' 'Badlapur' 'Jalgaon' 'Latur' 'Roha'\n",
      " 'Sangli' 'Ulhasnagar' 'Akola' 'Jalna' 'Nanded' 'Imphal' 'Shillong'\n",
      " 'Byrnihat' 'Dawki' 'Tura' 'Khliehriat' 'Nongstoin' 'Umsning' 'Aizawl'\n",
      " 'Champhai' 'Kolasib' 'Lunglei' 'Dimapur' 'Kohima' 'Angul' 'Talcher'\n",
      " 'Rourkela' 'Nalco' 'Rayagada' 'Bhubaneswar' 'Bhubaneshwar' 'Cuttack'\n",
      " 'Sambalpur' 'Berhampur' 'Balasore' 'Kalinga Nagar' 'Paradeep' 'Keonjhar'\n",
      " 'Konark' 'Puri' 'Pondichery' 'Pondicherry' 'Karaikal' 'Ludhiana'\n",
      " 'Jalandhar' 'Patiala' 'Gobindgarh' 'Naya Nangal' 'Amritsar' 'Bathinda'\n",
      " 'Dera Bassi' 'Khanna' 'Dera Baba' 'Sangrur' 'Faridkot' 'Hoshiarpur'\n",
      " 'Kota' 'Jaipur' 'Alwar' 'Jodhpur' 'Chittorgarh' 'Udaipur' 'Gangtok'\n",
      " 'Madras' 'Turicorin' 'Tuticorin' 'Coimbatore' 'Madurai' 'Salem' 'Chennai'\n",
      " 'Thoothukudi' 'Trichy' 'Mettur' 'Cuddalore' 'Kothur' 'Agra' 'Anpara'\n",
      " 'Dehradoon' 'Lucknow' 'Kanpur' 'Gajroula' 'Varanasi' 'Noida, Ghaziabad'\n",
      " 'Ghaziabad' 'Noida' 'Renusagar' 'Gajraula' 'Firozabad' 'Jhansi' 'Khurja'\n",
      " 'Allahabad' 'Meerut' 'Bareilly' 'Gorakhpur' 'Mathura' 'Moradabad'\n",
      " 'Rai Bareilly' 'Saharanpur' 'Unnao' 'Dehradun' 'Haldwani' 'Haridwar'\n",
      " 'Kashipur' 'Rishikesh' 'Rudrapur' 'Haldia' 'Howrah' 'Calcutta' 'Durgapur'\n",
      " 'Asansol' 'Kolkata' 'Durgapur (WB)' 'Baruipur' 'Barrackpore' 'Raniganj'\n",
      " 'Sankrail' 'South Suburban' 'DANKUNI' 'HALDIA' 'Kalyani' 'MALDAH'\n",
      " 'SILIGURI' 'ULUBERIA' nan] \n",
      "\n",
      "\n",
      "type:\n",
      " ['Residential, Rural and other Areas' 'Industrial Area' nan\n",
      " 'Sensitive Area' 'Industrial Areas' 'Residential and others'\n",
      " 'Sensitive Areas' 'Industrial' 'Residential' 'RIRUO' 'Sensitive'] \n",
      "\n",
      "\n"
     ]
    }
   ],
   "source": [
    "# Write your code here. \n",
    "df['date'] = pd.to_datetime(df['date'])\n",
    "text_columns = ['state', 'location','type']\n",
    " \n",
    "for column_name in text_columns:\n",
    "    print(column_name+':\\n', df[column_name].unique(),'\\n\\n')\n"
   ]
  },
  {
   "cell_type": "markdown",
   "metadata": {},
   "source": [
    "### Bonus Exercise\n",
    "You may have listed out the object columns in the last exercise - after all, there are only four of them. But what are you going to do if there are 400 of them? \n",
    "\n",
    "In the next block, write the code to check the `.dtype` of each column. If the column is an object, add that column to a list of the text column names, then print out the list."
   ]
  },
  {
   "cell_type": "code",
   "execution_count": null,
   "metadata": {
    "ExecuteTime": {
     "end_time": "2020-02-05T14:58:34.033436Z",
     "start_time": "2020-02-05T14:58:34.028774Z"
    }
   },
   "outputs": [],
   "source": [
    "# Write your code here\n",
    "\n"
   ]
  },
  {
   "cell_type": "markdown",
   "metadata": {},
   "source": [
    "Now rewrite your code that looks at **unique** values within each text column. This new code will reflect the code in the block above. "
   ]
  },
  {
   "cell_type": "code",
   "execution_count": null,
   "metadata": {
    "ExecuteTime": {
     "end_time": "2020-02-05T14:58:49.004264Z",
     "start_time": "2020-02-05T14:58:48.848628Z"
    },
    "scrolled": false
   },
   "outputs": [],
   "source": [
    "# Write your code here\n",
    "\n"
   ]
  },
  {
   "cell_type": "markdown",
   "metadata": {},
   "source": [
    "### Exercise 4: Changing Text Entries\n",
    "\n",
    "You may have noticed in the type column that there is an 'Industrial Area', 'Industrial Areas' and 'Industrial'. These are the same thing and, thus, we need to bring them into alignment.\n",
    "\n",
    "You may have also noticed that in the same column there is a 'Sensitive Area', 'Sensitive Areas', and 'Sensitive'. Again, these are the same thing and we need to bring them into alignment. \n",
    "\n",
    "We also have a long entry 'Residential, Rural and other Areas'. Let's chop those entries down to \"RRO\"\n",
    "\n",
    "Write the code to clean these two areas. For simplicity, we want the end result for all of 'Industrial' to read 'Industrial', all of 'Sensitive' to read 'Sensitive', and the 'Residential, Rural and other Areas\" to read 'RRO'. \n",
    "\n",
    "Hint: As a team, investigate the `.replace( )` command."
   ]
  },
  {
   "cell_type": "code",
   "execution_count": null,
   "metadata": {
    "ExecuteTime": {
     "end_time": "2020-02-05T14:59:25.407141Z",
     "start_time": "2020-02-05T14:59:25.177045Z"
    }
   },
   "outputs": [],
   "source": [
    "# Write your code here\n",
    "\n"
   ]
  },
  {
   "cell_type": "markdown",
   "metadata": {},
   "source": [
    "## We only need the year\n",
    "\n",
    "The 'date' column, as we saw above, is an object. We need to change that to a datetime type. I will help you with this. Note the code that I use so you can use it later on your own. \n",
    "\n",
    "As we saw above also, there are 7 entries missing dates in our dataset. We will also filter out those rows specifically, then drop them from our dataset. \n",
    "\n",
    "Hint: As a team, investigate\n",
    "1. how to convert the date column to *datetime*.\n",
    "1. how to use the `.isnull( )` command to find the empty values.\n",
    "1. how to use the `.dropna( )` command to drop the empty values."
   ]
  },
  {
   "cell_type": "code",
   "execution_count": null,
   "metadata": {
    "ExecuteTime": {
     "end_time": "2020-02-05T14:59:33.259746Z",
     "start_time": "2020-02-05T14:59:32.799448Z"
    }
   },
   "outputs": [],
   "source": [
    "df['date'] = pd.to_datetime(df['date']) # Convert date column to datetime\n",
    "\n",
    "philter = df['date'].isnull() # Establish a filter where year is NaN \n",
    "df[philter].dropna() #Drop all years that meet the filter criteria\n",
    "\n",
    "df.info()"
   ]
  },
  {
   "cell_type": "markdown",
   "metadata": {
    "ExecuteTime": {
     "end_time": "2019-12-26T22:17:15.044057Z",
     "start_time": "2019-12-26T22:17:15.031794Z"
    }
   },
   "source": [
    "# Now let's do some plotting\n",
    "\n",
    "Looking over our data, it appears to be clean, so let's go to the next phase of an EDA, the VDA (Visual Data Analysis) - plotting our values. \n",
    "\n",
    "## Exercise 5: Correlation/Confusion Matrix\n",
    "To start, let's do a Confusion/Correlation Matrix of the numeric columns. We talked about this in the 011 meeting. This will show us if there are any values which positively or negatively correlate to each other.\n",
    "\n",
    "As a team using Seaborn, \n",
    "1. plot a heatmap (the Seaborn version of a Correlation Matrix).\n",
    "1. note any patterns in the data."
   ]
  },
  {
   "cell_type": "code",
   "execution_count": null,
   "metadata": {
    "ExecuteTime": {
     "end_time": "2020-02-05T14:59:43.027051Z",
     "start_time": "2020-02-05T14:59:42.625431Z"
    }
   },
   "outputs": [],
   "source": [
    "# Write your code here\n",
    "\n"
   ]
  },
  {
   "cell_type": "markdown",
   "metadata": {},
   "source": [
    "## Exercise 6: Pairplot\n",
    "\n",
    "In the block below, as a team using Seaborn, \n",
    "1. create a pairplot so we can look at all of the variables and how they correlate to each other graphically. \n",
    "1. note any feature pairs that appear to call for further investigation for having a linear pattern."
   ]
  },
  {
   "cell_type": "code",
   "execution_count": null,
   "metadata": {
    "ExecuteTime": {
     "end_time": "2020-02-05T15:00:07.987794Z",
     "start_time": "2020-02-05T14:59:44.289112Z"
    }
   },
   "outputs": [],
   "source": [
    "# Write your code here\n",
    "\n",
    "\n"
   ]
  },
  {
   "cell_type": "markdown",
   "metadata": {},
   "source": [
    "# Functions\n",
    "\n",
    "As you look at what you have done, can you imagine doing this repeatedly for every dataset that you encounter? If a sigh of despair doesn't emanate from you at the thought of this, congratulations! If one does, then let's use **Functions** to make our life easier. \n",
    "\n",
    "A **function** is a sub-routine (small program inside your regular program) which you define and give a name. Once you have done this, then anytime you pull up that given name, Python will run that sub-routine without you having to code all of the lines of code again. \n",
    "\n",
    "To start defining a function, we have to tell Python that a new function is being *defined*. In Python this is done with the `def` command. \n",
    "\n",
    "After we use the `def` command, we give the function a name for Python to learn, and we give the data that we are going to use, sorta. Let's look at an example. \n",
    "\n",
    "## Functions Example 1\n",
    "\n",
    "We want to define a function that returns the square of whatever number we give it. And we want to call this function, \"square\". Look at the code below as we talk through it. (Yes, there are other ways to handle getting a square of a number in Python, but this is an illustrative example.)"
   ]
  },
  {
   "cell_type": "code",
   "execution_count": null,
   "metadata": {
    "ExecuteTime": {
     "end_time": "2020-02-05T15:00:07.992812Z",
     "start_time": "2020-02-05T15:00:07.989847Z"
    }
   },
   "outputs": [],
   "source": [
    "# Defining a function that will give us the square of any number we put into it.\n",
    "\n",
    "def square(number):\n",
    "    sq = number * number\n",
    "    return sq"
   ]
  },
  {
   "cell_type": "markdown",
   "metadata": {
    "ExecuteTime": {
     "end_time": "2020-01-11T21:49:53.634628Z",
     "start_time": "2020-01-11T21:49:53.630882Z"
    }
   },
   "source": [
    "Now that we have defined the square function for Python, every time we use this function after it has run Python will run this sub-routine (function). \n",
    "\n",
    "In the next block, as an example, we have a test_list of numbers. Up to now, if we wanted to find the square of each number in the list, we would write the following. "
   ]
  },
  {
   "cell_type": "code",
   "execution_count": null,
   "metadata": {
    "ExecuteTime": {
     "end_time": "2020-01-11T21:54:05.923930Z",
     "start_time": "2020-01-11T21:54:05.919989Z"
    }
   },
   "outputs": [],
   "source": [
    "test_list = [1, 2, 3, 4, 5]\n",
    "\n",
    "for num in test_list:\n",
    "    number = num * num\n",
    "    print(number)"
   ]
  },
  {
   "cell_type": "markdown",
   "metadata": {},
   "source": [
    "However, now that you have defined a function to find the square, this is how we would right the code for finding the square of each number in a list now. "
   ]
  },
  {
   "cell_type": "code",
   "execution_count": null,
   "metadata": {
    "ExecuteTime": {
     "end_time": "2020-01-11T21:51:04.932801Z",
     "start_time": "2020-01-11T21:51:04.928398Z"
    }
   },
   "outputs": [],
   "source": [
    "test_list = [1, 2, 3, 4, 5]\n",
    "\n",
    "for num in test_list:\n",
    "    print(square(num))"
   ]
  },
  {
   "cell_type": "markdown",
   "metadata": {},
   "source": [
    "Notice the difference in the code snippets. While our example is quite small and simple, we have reduced two lines of code down to one. If whatever program we now write requires us to do this multiple times, the savings in lines of code begin to multiply. \n",
    "\n",
    "A function can do anything that any other Python programming code can do. It just does it in one line of code rather than several. \n",
    "\n",
    "## Example 2\n",
    "\n",
    "Let's move on to another example that is a bit larger just to illustrate the power of functions. \n",
    "\n",
    "In this example I want to:\n",
    "1. generate any amount of random numbers (*n*)\n",
    "1. they are to start with a number I give Python (*start*)\n",
    "1. they are to finish with a number I give Python (*finish*)\n",
    "1. AND they are to return all of the even random numbers generated as a list"
   ]
  },
  {
   "cell_type": "code",
   "execution_count": null,
   "metadata": {
    "ExecuteTime": {
     "end_time": "2020-01-11T22:16:57.434858Z",
     "start_time": "2020-01-11T22:16:57.430398Z"
    }
   },
   "outputs": [],
   "source": [
    "def random_even_numbers(n, start, finish):\n",
    "    import random\n",
    "    test_list = []\n",
    "    for _ in range(n):\n",
    "        a = random.randint(start, finish)\n",
    "        if (a % 2) == 0:\n",
    "            test_list.append(a)\n",
    "    return test_list"
   ]
  },
  {
   "cell_type": "code",
   "execution_count": null,
   "metadata": {
    "ExecuteTime": {
     "end_time": "2020-01-11T22:16:58.602192Z",
     "start_time": "2020-01-11T22:16:58.598574Z"
    }
   },
   "outputs": [],
   "source": [
    "print(random_even_numbers(50,1,250))"
   ]
  },
  {
   "cell_type": "markdown",
   "metadata": {},
   "source": [
    "Now, anytime we want to generate a group of random even numbers, we simply have to use the name of the function. \n",
    "\n",
    "And do the numbers still come out as a list?\n",
    "\n",
    "Let's find out!"
   ]
  },
  {
   "cell_type": "code",
   "execution_count": null,
   "metadata": {
    "ExecuteTime": {
     "end_time": "2020-01-11T22:19:28.697314Z",
     "start_time": "2020-01-11T22:19:28.692525Z"
    }
   },
   "outputs": [],
   "source": [
    "type(random_even_numbers(100, 1, 1000))"
   ]
  },
  {
   "cell_type": "markdown",
   "metadata": {},
   "source": [
    "Now let's complicate the function further. \n",
    "\n",
    "We want to do all of the same things as in our last example, but rather than one list of even numbers, we want the function to return two lists, one of even numbers only and the second of odd numbers only. "
   ]
  },
  {
   "cell_type": "code",
   "execution_count": null,
   "metadata": {
    "ExecuteTime": {
     "end_time": "2020-01-11T22:29:23.652570Z",
     "start_time": "2020-01-11T22:29:23.648100Z"
    }
   },
   "outputs": [],
   "source": [
    "def random_sorted_numbers(n, start, finish):\n",
    "    import random\n",
    "    even_list = []\n",
    "    odd_list = []\n",
    "    for _ in range(n):\n",
    "        a = random.randint(start, finish)\n",
    "        if (a % 2) == 0:\n",
    "            even_list.append(a)\n",
    "        else:\n",
    "            odd_list.append(a)\n",
    "    return even_list, odd_list"
   ]
  },
  {
   "cell_type": "code",
   "execution_count": null,
   "metadata": {
    "ExecuteTime": {
     "end_time": "2020-01-11T22:30:58.980786Z",
     "start_time": "2020-01-11T22:30:58.976655Z"
    }
   },
   "outputs": [],
   "source": [
    "a, b = random_sorted_numbers(24, 10, 100)\n",
    "\n",
    "print('Even_list:', a)\n",
    "print('Odd_list:', b)"
   ]
  },
  {
   "cell_type": "markdown",
   "metadata": {},
   "source": [
    "## Example 3: How to use these to our advantage"
   ]
  },
  {
   "cell_type": "code",
   "execution_count": null,
   "metadata": {
    "ExecuteTime": {
     "end_time": "2020-01-11T22:57:36.921985Z",
     "start_time": "2020-01-11T22:57:36.917553Z"
    }
   },
   "outputs": [],
   "source": [
    "%run lib/simple_eda.py"
   ]
  },
  {
   "cell_type": "code",
   "execution_count": null,
   "metadata": {
    "ExecuteTime": {
     "end_time": "2020-01-11T22:57:39.484433Z",
     "start_time": "2020-01-11T22:57:39.273486Z"
    }
   },
   "outputs": [],
   "source": [
    "simple_eda(df)"
   ]
  },
  {
   "cell_type": "markdown",
   "metadata": {},
   "source": [
    "## Exercise 7: EDA Function\n",
    "\n",
    "Now that we have covered functions briefly, let's do a two part exercise. \n",
    "\n",
    "### Part 1\n",
    "\n",
    "In the next block, write out a function that we will call, `eda`. Write the function so that it does all of the work of the preliminary EDA for a dataset.\n",
    "\n",
    "1. Provides the DataFrame shape\n",
    "1. Provides the DataFrame's head\n",
    "1. Provides the DataFrame's info\n",
    "1. Provides the DataFrame's statistical description\n",
    "1. Provides the DataFrame's column names and variable type\n",
    "1. Provides the DataFrame's value count for each column\n",
    "1. Provides the DataFrame's null value count by column\n",
    "1. Separates the DataFrame's columns into a numeric columns list and a categorical columns list\n",
    "\n",
    "Once you have a single function to do this, run it to test it. When you are satisfied with what you have done, let me know."
   ]
  },
  {
   "cell_type": "code",
   "execution_count": null,
   "metadata": {},
   "outputs": [],
   "source": [
    "#Write your code here\n",
    "\n",
    "\n"
   ]
  },
  {
   "cell_type": "markdown",
   "metadata": {},
   "source": [
    "### Part 2\n",
    "\n",
    "Now let's see how to make this the first of your own library of functions for conducting an EDA in the future. "
   ]
  },
  {
   "cell_type": "code",
   "execution_count": null,
   "metadata": {
    "ExecuteTime": {
     "end_time": "2020-02-16T16:14:09.013665Z",
     "start_time": "2020-02-16T16:14:08.358219Z"
    }
   },
   "outputs": [],
   "source": [
    "%run lib/__eda_init__.py\n",
    "%matplotlib inline"
   ]
  },
  {
   "cell_type": "markdown",
   "metadata": {},
   "source": [
    "Now let's talk about how to do this. "
   ]
  },
  {
   "cell_type": "code",
   "execution_count": null,
   "metadata": {},
   "outputs": [],
   "source": [
    "eda(df)"
   ]
  },
  {
   "cell_type": "code",
   "execution_count": null,
   "metadata": {},
   "outputs": [],
   "source": [
    "break_down_features(df)"
   ]
  },
  {
   "cell_type": "code",
   "execution_count": null,
   "metadata": {},
   "outputs": [],
   "source": [
    "# !pip install pandas-profiling"
   ]
  },
  {
   "cell_type": "code",
   "execution_count": null,
   "metadata": {},
   "outputs": [],
   "source": [
    "pandas_profiling(df)"
   ]
  }
 ],
 "metadata": {
  "hide_input": false,
  "kernelspec": {
   "display_name": "Python 3",
   "language": "python",
   "name": "python3"
  },
  "language_info": {
   "codemirror_mode": {
    "name": "ipython",
    "version": 3
   },
   "file_extension": ".py",
   "mimetype": "text/x-python",
   "name": "python",
   "nbconvert_exporter": "python",
   "pygments_lexer": "ipython3",
   "version": "3.7.3"
  },
  "toc": {
   "base_numbering": 1,
   "nav_menu": {},
   "number_sections": true,
   "sideBar": true,
   "skip_h1_title": false,
   "title_cell": "Table of Contents",
   "title_sidebar": "Contents",
   "toc_cell": false,
   "toc_position": {
    "height": "calc(100% - 180px)",
    "left": "10px",
    "top": "150px",
    "width": "285.391px"
   },
   "toc_section_display": true,
   "toc_window_display": true
  }
 },
 "nbformat": 4,
 "nbformat_minor": 2
}
