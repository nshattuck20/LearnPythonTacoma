{
 "cells": [
  {
   "cell_type": "markdown",
   "metadata": {},
   "source": [
    "# EDA Part 2 & Functions\n",
    "\n",
    "<img src='graphics/automation.jpg' width = 600>\n",
    "\n",
    "In the last meet-up, we introduced Exploratory Data Analysis (EDA). The importance of this step (examining, cleaning and questioning) cannot be understated. Thus, we will spend the first part of this meet-up working in teams to conduct our own EDA on a new set of data.\n",
    "\n",
    "A data scientist’s workflow can be broken down into six components:\n",
    "1. Define the problem (covered two sections from here)\n",
    "1. Gather the data (done for you)\n",
    "1. Explore the data (our focus for today)\n",
    "1. Model with the data\n",
    "1. Evaluate the model\n",
    "1. Answer the problem\n",
    "\n",
    "This workflow is not a linear process. It involves (in many cases) multiple back and forths between all the different parts of the process.\n",
    "\n",
    "## The Dataset\n",
    "The dataset 'India air quality data' is from the Kaggle challenge [\"India Air Quality Data\"](https://www.kaggle.com/shrutibhargava94/india-air-quality-data). The dataset is located in the data folder. \n",
    "\n",
    "The dataset consists of the following columns:\n",
    "\n",
    "- stn_code\n",
    "- sampling_date\n",
    "- state *State*\n",
    "- location *City*\n",
    "- agency\n",
    "- type *Area category*\n",
    "- so2 *Sulphur dioxde*\n",
    "- no2 *Nitrogen dioxide*\n",
    "- rspm *Respirable Suspended Particulate Matter*\n",
    "- spm *Suspended Particulate Matter*\n",
    "- location_monitoring_station *location of monitoring area*\n",
    "- pm2_5 *PSI 2.5*\n",
    "- date *Date of recording*\n",
    "\n",
    "## Our Analysis Question\n",
    "As with any project, we need to know what is the question we are trying to answer. In this challenge, we want to know the air quality of India (which is actually worse than China's, but we want to learn how bad is the air quality.) \n",
    "\n",
    "\n",
    "The goals of this challenge are to  \n",
    "1. Clean the dataset to address the project question\n",
    "1. Establish visualizations of the data\n",
    "\n",
    "I will not tell you more about the dataset, so that this is truly an EDA for you.\n",
    "\n",
    "## Exercise 1: Load the necessary libraries and dataset\n",
    "\n",
    "You need to load the necessary libraries in order to \n",
    "1. Read the data into a DataFrame\n",
    "1. Plot the data in both Matplotlib and Seaborn"
   ]
  },
  {
   "cell_type": "code",
   "execution_count": 10,
   "metadata": {
    "ExecuteTime": {
     "end_time": "2020-10-11T18:10:20.105222Z",
     "start_time": "2020-10-11T18:10:19.381495Z"
    }
   },
   "outputs": [],
   "source": [
    "# Write your code here to load the libraries and load the dataset.\n",
    "\n",
    "import pandas as pd\n",
    "import matplotlib.pyplot as plt\n",
    "import matplotlib.style\n",
    "plt.style.use('fivethirtyeight')\n",
    "\n",
    "import seaborn as sns\n",
    "sns.set(style='darkgrid')\n",
    "\n",
    "import warnings\n",
    "warnings.filterwarnings('ignore')\n",
    "\n",
    "%matplotlib inline\n",
    "\n",
    "df = pd.read_csv('data/data.csv')\n"
   ]
  },
  {
   "cell_type": "markdown",
   "metadata": {},
   "source": [
    "# Exercise 2: Initial Data Examination\n",
    "\n",
    "There are six fundamental things we look at initially. In the next block, write the code to print out each of these six fundamental examinations, placing a title to each on a separate line from the actual data. "
   ]
  },
  {
   "cell_type": "code",
   "execution_count": 11,
   "metadata": {
    "ExecuteTime": {
     "end_time": "2020-10-11T18:10:20.921824Z",
     "start_time": "2020-10-11T18:10:20.106833Z"
    },
    "scrolled": false
   },
   "outputs": [
    {
     "name": "stdout",
     "output_type": "stream",
     "text": [
      "DataFrame Shape:\n",
      " (435742, 13) \n",
      "\n",
      "\n"
     ]
    },
    {
     "data": {
      "text/plain": [
       "'DataFrame Head:'"
      ]
     },
     "metadata": {},
     "output_type": "display_data"
    },
    {
     "data": {
      "text/html": [
       "<div>\n",
       "<style scoped>\n",
       "    .dataframe tbody tr th:only-of-type {\n",
       "        vertical-align: middle;\n",
       "    }\n",
       "\n",
       "    .dataframe tbody tr th {\n",
       "        vertical-align: top;\n",
       "    }\n",
       "\n",
       "    .dataframe thead th {\n",
       "        text-align: right;\n",
       "    }\n",
       "</style>\n",
       "<table border=\"1\" class=\"dataframe\">\n",
       "  <thead>\n",
       "    <tr style=\"text-align: right;\">\n",
       "      <th></th>\n",
       "      <th>stn_code</th>\n",
       "      <th>sampling_date</th>\n",
       "      <th>state</th>\n",
       "      <th>location</th>\n",
       "      <th>agency</th>\n",
       "      <th>type</th>\n",
       "      <th>so2</th>\n",
       "      <th>no2</th>\n",
       "      <th>rspm</th>\n",
       "      <th>spm</th>\n",
       "      <th>location_monitoring_station</th>\n",
       "      <th>pm2_5</th>\n",
       "      <th>date</th>\n",
       "    </tr>\n",
       "  </thead>\n",
       "  <tbody>\n",
       "    <tr>\n",
       "      <th>0</th>\n",
       "      <td>150</td>\n",
       "      <td>February - M021990</td>\n",
       "      <td>Andhra Pradesh</td>\n",
       "      <td>Hyderabad</td>\n",
       "      <td>NaN</td>\n",
       "      <td>Residential, Rural and other Areas</td>\n",
       "      <td>4.8</td>\n",
       "      <td>17.4</td>\n",
       "      <td>NaN</td>\n",
       "      <td>NaN</td>\n",
       "      <td>NaN</td>\n",
       "      <td>NaN</td>\n",
       "      <td>2/1/90</td>\n",
       "    </tr>\n",
       "    <tr>\n",
       "      <th>1</th>\n",
       "      <td>151</td>\n",
       "      <td>February - M021990</td>\n",
       "      <td>Andhra Pradesh</td>\n",
       "      <td>Hyderabad</td>\n",
       "      <td>NaN</td>\n",
       "      <td>Industrial Area</td>\n",
       "      <td>3.1</td>\n",
       "      <td>7.0</td>\n",
       "      <td>NaN</td>\n",
       "      <td>NaN</td>\n",
       "      <td>NaN</td>\n",
       "      <td>NaN</td>\n",
       "      <td>2/1/90</td>\n",
       "    </tr>\n",
       "    <tr>\n",
       "      <th>2</th>\n",
       "      <td>152</td>\n",
       "      <td>February - M021990</td>\n",
       "      <td>Andhra Pradesh</td>\n",
       "      <td>Hyderabad</td>\n",
       "      <td>NaN</td>\n",
       "      <td>Residential, Rural and other Areas</td>\n",
       "      <td>6.2</td>\n",
       "      <td>28.5</td>\n",
       "      <td>NaN</td>\n",
       "      <td>NaN</td>\n",
       "      <td>NaN</td>\n",
       "      <td>NaN</td>\n",
       "      <td>2/1/90</td>\n",
       "    </tr>\n",
       "    <tr>\n",
       "      <th>3</th>\n",
       "      <td>150</td>\n",
       "      <td>March - M031990</td>\n",
       "      <td>Andhra Pradesh</td>\n",
       "      <td>Hyderabad</td>\n",
       "      <td>NaN</td>\n",
       "      <td>Residential, Rural and other Areas</td>\n",
       "      <td>6.3</td>\n",
       "      <td>14.7</td>\n",
       "      <td>NaN</td>\n",
       "      <td>NaN</td>\n",
       "      <td>NaN</td>\n",
       "      <td>NaN</td>\n",
       "      <td>3/1/90</td>\n",
       "    </tr>\n",
       "    <tr>\n",
       "      <th>4</th>\n",
       "      <td>151</td>\n",
       "      <td>March - M031990</td>\n",
       "      <td>Andhra Pradesh</td>\n",
       "      <td>Hyderabad</td>\n",
       "      <td>NaN</td>\n",
       "      <td>Industrial Area</td>\n",
       "      <td>4.7</td>\n",
       "      <td>7.5</td>\n",
       "      <td>NaN</td>\n",
       "      <td>NaN</td>\n",
       "      <td>NaN</td>\n",
       "      <td>NaN</td>\n",
       "      <td>3/1/90</td>\n",
       "    </tr>\n",
       "  </tbody>\n",
       "</table>\n",
       "</div>"
      ],
      "text/plain": [
       "  stn_code       sampling_date           state   location agency  \\\n",
       "0      150  February - M021990  Andhra Pradesh  Hyderabad    NaN   \n",
       "1      151  February - M021990  Andhra Pradesh  Hyderabad    NaN   \n",
       "2      152  February - M021990  Andhra Pradesh  Hyderabad    NaN   \n",
       "3      150     March - M031990  Andhra Pradesh  Hyderabad    NaN   \n",
       "4      151     March - M031990  Andhra Pradesh  Hyderabad    NaN   \n",
       "\n",
       "                                 type  so2   no2  rspm  spm  \\\n",
       "0  Residential, Rural and other Areas  4.8  17.4   NaN  NaN   \n",
       "1                     Industrial Area  3.1   7.0   NaN  NaN   \n",
       "2  Residential, Rural and other Areas  6.2  28.5   NaN  NaN   \n",
       "3  Residential, Rural and other Areas  6.3  14.7   NaN  NaN   \n",
       "4                     Industrial Area  4.7   7.5   NaN  NaN   \n",
       "\n",
       "  location_monitoring_station  pm2_5    date  \n",
       "0                         NaN    NaN  2/1/90  \n",
       "1                         NaN    NaN  2/1/90  \n",
       "2                         NaN    NaN  2/1/90  \n",
       "3                         NaN    NaN  3/1/90  \n",
       "4                         NaN    NaN  3/1/90  "
      ]
     },
     "metadata": {},
     "output_type": "display_data"
    },
    {
     "name": "stdout",
     "output_type": "stream",
     "text": [
      "\n",
      "\n",
      "DataFrame Statistical Description:\n",
      "                  so2            no2           rspm            spm        pm2_5\n",
      "count  401096.000000  419509.000000  395520.000000  198355.000000  9314.000000\n",
      "mean       10.829414      25.809623     108.832784     220.783480    40.791467\n",
      "std        11.177187      18.503086      74.872430     151.395457    30.832525\n",
      "min         0.000000       0.000000       0.000000       0.000000     3.000000\n",
      "25%         5.000000      14.000000      56.000000     111.000000    24.000000\n",
      "50%         8.000000      22.000000      90.000000     187.000000    32.000000\n",
      "75%        13.700000      32.200000     142.000000     296.000000    46.000000\n",
      "max       909.000000     876.000000    6307.033333    3380.000000   504.000000 \n",
      "\n",
      "\n",
      "DataFrame Column Types:\n",
      " stn_code                        object\n",
      "sampling_date                   object\n",
      "state                           object\n",
      "location                        object\n",
      "agency                          object\n",
      "type                            object\n",
      "so2                            float64\n",
      "no2                            float64\n",
      "rspm                           float64\n",
      "spm                            float64\n",
      "location_monitoring_station     object\n",
      "pm2_5                          float64\n",
      "date                            object\n",
      "dtype: object \n",
      "\n",
      "\n",
      "\n",
      "DataFrame count:  \n",
      " stn_code                       291665\n",
      "sampling_date                  435739\n",
      "state                          435742\n",
      "location                       435739\n",
      "agency                         286261\n",
      "type                           430349\n",
      "so2                            401096\n",
      "no2                            419509\n",
      "rspm                           395520\n",
      "spm                            198355\n",
      "location_monitoring_station    408251\n",
      "pm2_5                            9314\n",
      "date                           435735\n",
      "dtype: int64\n",
      "\n",
      "\n",
      "DataFrame Null Value Count:\n",
      " stn_code                       144077\n",
      "sampling_date                       3\n",
      "state                               0\n",
      "location                            3\n",
      "agency                         149481\n",
      "type                             5393\n",
      "so2                             34646\n",
      "no2                             16233\n",
      "rspm                            40222\n",
      "spm                            237387\n",
      "location_monitoring_station     27491\n",
      "pm2_5                          426428\n",
      "date                                7\n",
      "dtype: int64\n",
      "\n",
      "\n",
      "Number of Duplicated Rows:\n",
      " 674\n"
     ]
    }
   ],
   "source": [
    "# Write your code here\n",
    "\n",
    "print('DataFrame Shape:\\n', df.shape, '\\n\\n')\n",
    "display('DataFrame Head:', df.head())\n",
    "print('\\n\\nDataFrame Statistical Description:\\n', df.describe(), '\\n\\n')\n",
    "print('DataFrame Column Types:\\n', df.dtypes,'\\n\\n')\n",
    "print('\\nDataFrame count: ', '\\n', df.count())\n",
    "print('\\n\\nDataFrame Null Value Count:\\n', df.isnull().sum())\n",
    "print('\\n\\nNumber of Duplicated Rows:\\n', df.duplicated().sum())"
   ]
  },
  {
   "cell_type": "markdown",
   "metadata": {},
   "source": [
    "# A Bit of Cleaning\n",
    "\n",
    "Now that we have a sense of the data, let's begin cleaning the data.\n",
    "\n",
    "## Exercise 3: Dropping some unnecessary columns\n",
    "There are a few columns which we just don't need because they won't add to our eventual analysis. \n",
    "- stn_code\n",
    "- agency\n",
    "- sampling_date\n",
    "- location_monitoring_station \n",
    "\n",
    "In the next block, write the code to **drop** these columns. As a team, you will want to do a bit of investigation into `.drop( )` as it relates to columns. You can drop all of the columns that you want to drop in one line of code. "
   ]
  },
  {
   "cell_type": "code",
   "execution_count": 12,
   "metadata": {
    "ExecuteTime": {
     "end_time": "2020-10-11T18:10:20.983097Z",
     "start_time": "2020-10-11T18:10:20.924233Z"
    }
   },
   "outputs": [
    {
     "data": {
      "text/html": [
       "<div>\n",
       "<style scoped>\n",
       "    .dataframe tbody tr th:only-of-type {\n",
       "        vertical-align: middle;\n",
       "    }\n",
       "\n",
       "    .dataframe tbody tr th {\n",
       "        vertical-align: top;\n",
       "    }\n",
       "\n",
       "    .dataframe thead th {\n",
       "        text-align: right;\n",
       "    }\n",
       "</style>\n",
       "<table border=\"1\" class=\"dataframe\">\n",
       "  <thead>\n",
       "    <tr style=\"text-align: right;\">\n",
       "      <th></th>\n",
       "      <th>state</th>\n",
       "      <th>location</th>\n",
       "      <th>type</th>\n",
       "      <th>so2</th>\n",
       "      <th>no2</th>\n",
       "      <th>rspm</th>\n",
       "      <th>spm</th>\n",
       "      <th>pm2_5</th>\n",
       "      <th>date</th>\n",
       "    </tr>\n",
       "  </thead>\n",
       "  <tbody>\n",
       "    <tr>\n",
       "      <th>0</th>\n",
       "      <td>Andhra Pradesh</td>\n",
       "      <td>Hyderabad</td>\n",
       "      <td>Residential, Rural and other Areas</td>\n",
       "      <td>4.8</td>\n",
       "      <td>17.4</td>\n",
       "      <td>NaN</td>\n",
       "      <td>NaN</td>\n",
       "      <td>NaN</td>\n",
       "      <td>2/1/90</td>\n",
       "    </tr>\n",
       "    <tr>\n",
       "      <th>1</th>\n",
       "      <td>Andhra Pradesh</td>\n",
       "      <td>Hyderabad</td>\n",
       "      <td>Industrial Area</td>\n",
       "      <td>3.1</td>\n",
       "      <td>7.0</td>\n",
       "      <td>NaN</td>\n",
       "      <td>NaN</td>\n",
       "      <td>NaN</td>\n",
       "      <td>2/1/90</td>\n",
       "    </tr>\n",
       "    <tr>\n",
       "      <th>2</th>\n",
       "      <td>Andhra Pradesh</td>\n",
       "      <td>Hyderabad</td>\n",
       "      <td>Residential, Rural and other Areas</td>\n",
       "      <td>6.2</td>\n",
       "      <td>28.5</td>\n",
       "      <td>NaN</td>\n",
       "      <td>NaN</td>\n",
       "      <td>NaN</td>\n",
       "      <td>2/1/90</td>\n",
       "    </tr>\n",
       "    <tr>\n",
       "      <th>3</th>\n",
       "      <td>Andhra Pradesh</td>\n",
       "      <td>Hyderabad</td>\n",
       "      <td>Residential, Rural and other Areas</td>\n",
       "      <td>6.3</td>\n",
       "      <td>14.7</td>\n",
       "      <td>NaN</td>\n",
       "      <td>NaN</td>\n",
       "      <td>NaN</td>\n",
       "      <td>3/1/90</td>\n",
       "    </tr>\n",
       "    <tr>\n",
       "      <th>4</th>\n",
       "      <td>Andhra Pradesh</td>\n",
       "      <td>Hyderabad</td>\n",
       "      <td>Industrial Area</td>\n",
       "      <td>4.7</td>\n",
       "      <td>7.5</td>\n",
       "      <td>NaN</td>\n",
       "      <td>NaN</td>\n",
       "      <td>NaN</td>\n",
       "      <td>3/1/90</td>\n",
       "    </tr>\n",
       "  </tbody>\n",
       "</table>\n",
       "</div>"
      ],
      "text/plain": [
       "            state   location                                type  so2   no2  \\\n",
       "0  Andhra Pradesh  Hyderabad  Residential, Rural and other Areas  4.8  17.4   \n",
       "1  Andhra Pradesh  Hyderabad                     Industrial Area  3.1   7.0   \n",
       "2  Andhra Pradesh  Hyderabad  Residential, Rural and other Areas  6.2  28.5   \n",
       "3  Andhra Pradesh  Hyderabad  Residential, Rural and other Areas  6.3  14.7   \n",
       "4  Andhra Pradesh  Hyderabad                     Industrial Area  4.7   7.5   \n",
       "\n",
       "   rspm  spm  pm2_5    date  \n",
       "0   NaN  NaN    NaN  2/1/90  \n",
       "1   NaN  NaN    NaN  2/1/90  \n",
       "2   NaN  NaN    NaN  2/1/90  \n",
       "3   NaN  NaN    NaN  3/1/90  \n",
       "4   NaN  NaN    NaN  3/1/90  "
      ]
     },
     "execution_count": 12,
     "metadata": {},
     "output_type": "execute_result"
    }
   ],
   "source": [
    "# Write your code here\n",
    "\n",
    "df = df.drop(columns=['stn_code', 'agency', 'sampling_date', 'location_monitoring_station'])\n",
    "\n",
    "df.head()"
   ]
  },
  {
   "cell_type": "markdown",
   "metadata": {},
   "source": [
    "## Exercise 4: Are the text entries correct?\n",
    "\n",
    "Digging deeper on our remaining columns, we notice that state, location and type are text entries. But do we know if there are misspellings? We don't until we look at them. \n",
    "\n",
    "In the next block, write a loop that prints out the **unique** values for each of text columns. Make sure that we write the code to make it easy for a human to read the output. This means printing the name of the column, followed by a colon, and on the next line print out the unique values. As a team, you will want to look at the `.unique( )` command again. "
   ]
  },
  {
   "cell_type": "code",
   "execution_count": 13,
   "metadata": {
    "ExecuteTime": {
     "end_time": "2020-10-11T18:10:21.049563Z",
     "start_time": "2020-10-11T18:10:20.985018Z"
    },
    "scrolled": false
   },
   "outputs": [
    {
     "name": "stdout",
     "output_type": "stream",
     "text": [
      "state:\n",
      " ['Andhra Pradesh' 'Arunachal Pradesh' 'Assam' 'Bihar' 'Chandigarh'\n",
      " 'Chhattisgarh' 'Dadra & Nagar Haveli' 'Daman & Diu' 'Delhi' 'Goa'\n",
      " 'Gujarat' 'Haryana' 'Himachal Pradesh' 'Jammu & Kashmir' 'Jharkhand'\n",
      " 'Karnataka' 'Kerala' 'Madhya Pradesh' 'Maharashtra' 'Manipur' 'Meghalaya'\n",
      " 'Mizoram' 'Nagaland' 'Odisha' 'Puducherry' 'Punjab' 'Rajasthan' 'Sikkim'\n",
      " 'Tamil Nadu' 'Telangana' 'Uttar Pradesh' 'Uttarakhand' 'Uttaranchal'\n",
      " 'West Bengal' 'andaman-and-nicobar-islands' 'Lakshadweep' 'Tripura'] \n",
      "\n",
      "\n",
      "location:\n",
      " ['Hyderabad' 'Vishakhapatnam' 'Visakhapatnam' 'Tirupati' 'Vijayawada'\n",
      " 'Patancheru' 'Ramagundam' 'Kurnool' 'Guntur' 'Nalgonda' 'Nellore'\n",
      " 'Warangal' 'Chittoor' 'Khammam' 'Kakinada' 'Ananthapur' 'Eluru' 'Kadapa'\n",
      " 'Karimnagar' 'Nizamabad' 'Ongole' 'Rajahmundry' 'Sangareddy' 'Srikakulam'\n",
      " 'Vizianagaram' 'Itanagar' 'Naharlagun' 'Guwahati' 'Bongaigaon'\n",
      " 'Dibrugarh' 'Golaghat' 'Hailakandi' 'Sibsagar' 'Tezpur' 'Silchar'\n",
      " 'Daranga' 'Lakhimpur' 'Nagaon' 'Nalbari' 'Sivasagar' 'Silcher' 'Tinsukia'\n",
      " 'Margherita' 'Sindri' 'Jharia' 'Dhanbad' 'Jamshedpur' 'Patna'\n",
      " 'Chandigarh' 'Korba' 'Bhilai Nagar' 'Raipur' 'Bhilai' 'Bilaspur' 'Daman'\n",
      " 'Silvassa' 'Khadoli' 'Daman Diu & Nagar' 'Delhi' 'Ponda' 'Vasco' 'Panjim'\n",
      " 'Panaji' 'Mormugao' 'Amona' 'Assanora' 'Bicholim' 'Codli' 'Curchorem'\n",
      " 'Honda' 'Usgao' 'Kundaim' 'Mapusa' 'Margao' 'Sanguem' 'Tilamol'\n",
      " 'Cuncolim' 'Baroda' 'Surat' 'Ahmedabad' 'Vapi' 'Ankleshwar' 'Rajkot'\n",
      " 'Bharuch' 'Jamnagar' 'Vadodara' 'Anklesvar' 'ANKLESHWAR' 'VAPI' 'Bhuj'\n",
      " 'MORBI' 'SANAND' 'Sarigam' 'Faridabad' 'Yamuna Nagar' 'Dharuhera' 'Hisar'\n",
      " 'Yamunanagar' 'Shimla' 'Paonta Sahib' 'Parwanoo' 'Damtal' 'Baddi' 'Nahan'\n",
      " 'Nalagarh' 'Kala Amb' 'Manali' 'Sunder Nagar' 'Una' 'Dharamshala' 'Jammu'\n",
      " 'Ranchi' 'West Singhbhum' 'Saraikela Kharsawan' 'Mysore' 'Bangalore'\n",
      " 'Belgaum' 'Gulbarga' 'Hassan' 'Hubli-Dharwad' 'Mangalore' 'Davangere'\n",
      " 'Dharwad' 'Hubli' 'Bidar' 'Domlur' 'Chitradurga' 'Ranebennur' 'Kolar'\n",
      " 'Mandya' 'Raichur' 'Shimoga' 'Tumkur' 'Bijapur' 'Cochin' 'Kotttayam'\n",
      " 'Kottayam' 'Kozhikode' 'Trivendrum' 'Palakkad' 'Kochi' 'Trivandrum'\n",
      " 'Alappuzha' 'Kollam' 'Malappuram' 'Thiruvananthapuram' 'Pathanamthitta'\n",
      " 'Thissur' 'Wayanad' 'Nagda' 'Satna' 'Indore' 'Bhopal' 'Jabalpur'\n",
      " 'Gwalior' 'Ujjain' 'Dewas' 'Khajuraho' 'Sagar' 'Singrauli' 'Chhindwara'\n",
      " 'Amlai' 'Pithampur' 'Pune' 'Bombay' 'Nagpur' 'Chandarpur' 'Aurangabad'\n",
      " 'Chandrapur' 'Nashik' 'Dombivli' 'Solapur' 'Thane' 'Mumbai'\n",
      " 'Aurangabad (MS)' 'Greater Mumbai' 'Kolhapur' 'Amravati' 'Lote'\n",
      " 'Navi Mumbai' 'Tarapur' 'Mahad' 'Badlapur' 'Jalgaon' 'Latur' 'Roha'\n",
      " 'Sangli' 'Ulhasnagar' 'Akola' 'Jalna' 'Nanded' 'Imphal' 'Shillong'\n",
      " 'Byrnihat' 'Dawki' 'Tura' 'Khliehriat' 'Nongstoin' 'Umsning' 'Aizawl'\n",
      " 'Champhai' 'Kolasib' 'Lunglei' 'Dimapur' 'Kohima' 'Angul' 'Talcher'\n",
      " 'Rourkela' 'Nalco' 'Rayagada' 'Bhubaneswar' 'Bhubaneshwar' 'Cuttack'\n",
      " 'Sambalpur' 'Berhampur' 'Balasore' 'Kalinga Nagar' 'Paradeep' 'Keonjhar'\n",
      " 'Konark' 'Puri' 'Pondichery' 'Pondicherry' 'Karaikal' 'Ludhiana'\n",
      " 'Jalandhar' 'Patiala' 'Gobindgarh' 'Naya Nangal' 'Amritsar' 'Bathinda'\n",
      " 'Dera Bassi' 'Khanna' 'Dera Baba' 'Sangrur' 'Faridkot' 'Hoshiarpur'\n",
      " 'Kota' 'Jaipur' 'Alwar' 'Jodhpur' 'Chittorgarh' 'Udaipur' 'Gangtok'\n",
      " 'Madras' 'Turicorin' 'Tuticorin' 'Coimbatore' 'Madurai' 'Salem' 'Chennai'\n",
      " 'Thoothukudi' 'Trichy' 'Mettur' 'Cuddalore' 'Kothur' 'Agra' 'Anpara'\n",
      " 'Dehradoon' 'Lucknow' 'Kanpur' 'Gajroula' 'Varanasi' 'Noida, Ghaziabad'\n",
      " 'Ghaziabad' 'Noida' 'Renusagar' 'Gajraula' 'Firozabad' 'Jhansi' 'Khurja'\n",
      " 'Allahabad' 'Meerut' 'Bareilly' 'Gorakhpur' 'Mathura' 'Moradabad'\n",
      " 'Rai Bareilly' 'Saharanpur' 'Unnao' 'Dehradun' 'Haldwani' 'Haridwar'\n",
      " 'Kashipur' 'Rishikesh' 'Rudrapur' 'Haldia' 'Howrah' 'Calcutta' 'Durgapur'\n",
      " 'Asansol' 'Kolkata' 'Durgapur (WB)' 'Baruipur' 'Barrackpore' 'Raniganj'\n",
      " 'Sankrail' 'South Suburban' 'DANKUNI' 'HALDIA' 'Kalyani' 'MALDAH'\n",
      " 'SILIGURI' 'ULUBERIA' nan] \n",
      "\n",
      "\n",
      "type:\n",
      " ['Residential, Rural and other Areas' 'Industrial Area' nan\n",
      " 'Sensitive Area' 'Industrial Areas' 'Residential and others'\n",
      " 'Sensitive Areas' 'Industrial' 'Residential' 'RIRUO' 'Sensitive'] \n",
      "\n",
      "\n"
     ]
    }
   ],
   "source": [
    "# Write your code here. \n",
    "\n",
    "text_columns = ['state', 'location', 'type']\n",
    "\n",
    "for column_name in text_columns:\n",
    "    print(column_name+':\\n', df[column_name].unique(),'\\n\\n')"
   ]
  },
  {
   "cell_type": "markdown",
   "metadata": {},
   "source": [
    "### Bonus Exercise\n",
    "You may have listed out the object columns in the last exercise - after all, there are only four of them. But what are you going to do if there are 400 of them? \n",
    "\n",
    "In the next block, write the code to check the `.dtype` of each column. If the column is an object, add that column to a list of the text column names, then print out the list."
   ]
  },
  {
   "cell_type": "code",
   "execution_count": 14,
   "metadata": {
    "ExecuteTime": {
     "end_time": "2020-10-11T18:10:21.054649Z",
     "start_time": "2020-10-11T18:10:21.050973Z"
    }
   },
   "outputs": [
    {
     "name": "stdout",
     "output_type": "stream",
     "text": [
      "['state', 'location', 'type', 'date']\n"
     ]
    }
   ],
   "source": [
    "# Write your code here\n",
    "\n",
    "text_columns = []\n",
    "\n",
    "for key in df.keys():\n",
    "    if df[key].dtype == 'object':\n",
    "        text_columns.append(key)\n",
    "        \n",
    "print(text_columns)"
   ]
  },
  {
   "cell_type": "markdown",
   "metadata": {},
   "source": [
    "Now rewrite your code that looks at **unique** values within each text column. This new code will reflect the code in the block above. "
   ]
  },
  {
   "cell_type": "code",
   "execution_count": 15,
   "metadata": {
    "ExecuteTime": {
     "end_time": "2020-10-11T18:10:21.224646Z",
     "start_time": "2020-10-11T18:10:21.056459Z"
    },
    "scrolled": false
   },
   "outputs": [
    {
     "name": "stdout",
     "output_type": "stream",
     "text": [
      "state:\n",
      " ['Andhra Pradesh' 'Arunachal Pradesh' 'Assam' 'Bihar' 'Chandigarh'\n",
      " 'Chhattisgarh' 'Dadra & Nagar Haveli' 'Daman & Diu' 'Delhi' 'Goa'\n",
      " 'Gujarat' 'Haryana' 'Himachal Pradesh' 'Jammu & Kashmir' 'Jharkhand'\n",
      " 'Karnataka' 'Kerala' 'Madhya Pradesh' 'Maharashtra' 'Manipur' 'Meghalaya'\n",
      " 'Mizoram' 'Nagaland' 'Odisha' 'Puducherry' 'Punjab' 'Rajasthan' 'Sikkim'\n",
      " 'Tamil Nadu' 'Telangana' 'Uttar Pradesh' 'Uttarakhand' 'Uttaranchal'\n",
      " 'West Bengal' 'andaman-and-nicobar-islands' 'Lakshadweep' 'Tripura'] \n",
      "\n",
      "\n",
      "location:\n",
      " ['Hyderabad' 'Vishakhapatnam' 'Visakhapatnam' 'Tirupati' 'Vijayawada'\n",
      " 'Patancheru' 'Ramagundam' 'Kurnool' 'Guntur' 'Nalgonda' 'Nellore'\n",
      " 'Warangal' 'Chittoor' 'Khammam' 'Kakinada' 'Ananthapur' 'Eluru' 'Kadapa'\n",
      " 'Karimnagar' 'Nizamabad' 'Ongole' 'Rajahmundry' 'Sangareddy' 'Srikakulam'\n",
      " 'Vizianagaram' 'Itanagar' 'Naharlagun' 'Guwahati' 'Bongaigaon'\n",
      " 'Dibrugarh' 'Golaghat' 'Hailakandi' 'Sibsagar' 'Tezpur' 'Silchar'\n",
      " 'Daranga' 'Lakhimpur' 'Nagaon' 'Nalbari' 'Sivasagar' 'Silcher' 'Tinsukia'\n",
      " 'Margherita' 'Sindri' 'Jharia' 'Dhanbad' 'Jamshedpur' 'Patna'\n",
      " 'Chandigarh' 'Korba' 'Bhilai Nagar' 'Raipur' 'Bhilai' 'Bilaspur' 'Daman'\n",
      " 'Silvassa' 'Khadoli' 'Daman Diu & Nagar' 'Delhi' 'Ponda' 'Vasco' 'Panjim'\n",
      " 'Panaji' 'Mormugao' 'Amona' 'Assanora' 'Bicholim' 'Codli' 'Curchorem'\n",
      " 'Honda' 'Usgao' 'Kundaim' 'Mapusa' 'Margao' 'Sanguem' 'Tilamol'\n",
      " 'Cuncolim' 'Baroda' 'Surat' 'Ahmedabad' 'Vapi' 'Ankleshwar' 'Rajkot'\n",
      " 'Bharuch' 'Jamnagar' 'Vadodara' 'Anklesvar' 'ANKLESHWAR' 'VAPI' 'Bhuj'\n",
      " 'MORBI' 'SANAND' 'Sarigam' 'Faridabad' 'Yamuna Nagar' 'Dharuhera' 'Hisar'\n",
      " 'Yamunanagar' 'Shimla' 'Paonta Sahib' 'Parwanoo' 'Damtal' 'Baddi' 'Nahan'\n",
      " 'Nalagarh' 'Kala Amb' 'Manali' 'Sunder Nagar' 'Una' 'Dharamshala' 'Jammu'\n",
      " 'Ranchi' 'West Singhbhum' 'Saraikela Kharsawan' 'Mysore' 'Bangalore'\n",
      " 'Belgaum' 'Gulbarga' 'Hassan' 'Hubli-Dharwad' 'Mangalore' 'Davangere'\n",
      " 'Dharwad' 'Hubli' 'Bidar' 'Domlur' 'Chitradurga' 'Ranebennur' 'Kolar'\n",
      " 'Mandya' 'Raichur' 'Shimoga' 'Tumkur' 'Bijapur' 'Cochin' 'Kotttayam'\n",
      " 'Kottayam' 'Kozhikode' 'Trivendrum' 'Palakkad' 'Kochi' 'Trivandrum'\n",
      " 'Alappuzha' 'Kollam' 'Malappuram' 'Thiruvananthapuram' 'Pathanamthitta'\n",
      " 'Thissur' 'Wayanad' 'Nagda' 'Satna' 'Indore' 'Bhopal' 'Jabalpur'\n",
      " 'Gwalior' 'Ujjain' 'Dewas' 'Khajuraho' 'Sagar' 'Singrauli' 'Chhindwara'\n",
      " 'Amlai' 'Pithampur' 'Pune' 'Bombay' 'Nagpur' 'Chandarpur' 'Aurangabad'\n",
      " 'Chandrapur' 'Nashik' 'Dombivli' 'Solapur' 'Thane' 'Mumbai'\n",
      " 'Aurangabad (MS)' 'Greater Mumbai' 'Kolhapur' 'Amravati' 'Lote'\n",
      " 'Navi Mumbai' 'Tarapur' 'Mahad' 'Badlapur' 'Jalgaon' 'Latur' 'Roha'\n",
      " 'Sangli' 'Ulhasnagar' 'Akola' 'Jalna' 'Nanded' 'Imphal' 'Shillong'\n",
      " 'Byrnihat' 'Dawki' 'Tura' 'Khliehriat' 'Nongstoin' 'Umsning' 'Aizawl'\n",
      " 'Champhai' 'Kolasib' 'Lunglei' 'Dimapur' 'Kohima' 'Angul' 'Talcher'\n",
      " 'Rourkela' 'Nalco' 'Rayagada' 'Bhubaneswar' 'Bhubaneshwar' 'Cuttack'\n",
      " 'Sambalpur' 'Berhampur' 'Balasore' 'Kalinga Nagar' 'Paradeep' 'Keonjhar'\n",
      " 'Konark' 'Puri' 'Pondichery' 'Pondicherry' 'Karaikal' 'Ludhiana'\n",
      " 'Jalandhar' 'Patiala' 'Gobindgarh' 'Naya Nangal' 'Amritsar' 'Bathinda'\n",
      " 'Dera Bassi' 'Khanna' 'Dera Baba' 'Sangrur' 'Faridkot' 'Hoshiarpur'\n",
      " 'Kota' 'Jaipur' 'Alwar' 'Jodhpur' 'Chittorgarh' 'Udaipur' 'Gangtok'\n",
      " 'Madras' 'Turicorin' 'Tuticorin' 'Coimbatore' 'Madurai' 'Salem' 'Chennai'\n",
      " 'Thoothukudi' 'Trichy' 'Mettur' 'Cuddalore' 'Kothur' 'Agra' 'Anpara'\n",
      " 'Dehradoon' 'Lucknow' 'Kanpur' 'Gajroula' 'Varanasi' 'Noida, Ghaziabad'\n",
      " 'Ghaziabad' 'Noida' 'Renusagar' 'Gajraula' 'Firozabad' 'Jhansi' 'Khurja'\n",
      " 'Allahabad' 'Meerut' 'Bareilly' 'Gorakhpur' 'Mathura' 'Moradabad'\n",
      " 'Rai Bareilly' 'Saharanpur' 'Unnao' 'Dehradun' 'Haldwani' 'Haridwar'\n",
      " 'Kashipur' 'Rishikesh' 'Rudrapur' 'Haldia' 'Howrah' 'Calcutta' 'Durgapur'\n",
      " 'Asansol' 'Kolkata' 'Durgapur (WB)' 'Baruipur' 'Barrackpore' 'Raniganj'\n",
      " 'Sankrail' 'South Suburban' 'DANKUNI' 'HALDIA' 'Kalyani' 'MALDAH'\n",
      " 'SILIGURI' 'ULUBERIA' nan] \n",
      "\n",
      "\n",
      "type:\n",
      " ['Residential, Rural and other Areas' 'Industrial Area' nan\n",
      " 'Sensitive Area' 'Industrial Areas' 'Residential and others'\n",
      " 'Sensitive Areas' 'Industrial' 'Residential' 'RIRUO' 'Sensitive'] \n",
      "\n",
      "\n",
      "date:\n",
      " ['2/1/90' '3/1/90' '4/1/90' ... '5/8/87' '9/10/87' '6/11/87'] \n",
      "\n",
      "\n",
      "state:\n",
      " ['Andhra Pradesh' 'Arunachal Pradesh' 'Assam' 'Bihar' 'Chandigarh'\n",
      " 'Chhattisgarh' 'Dadra & Nagar Haveli' 'Daman & Diu' 'Delhi' 'Goa'\n",
      " 'Gujarat' 'Haryana' 'Himachal Pradesh' 'Jammu & Kashmir' 'Jharkhand'\n",
      " 'Karnataka' 'Kerala' 'Madhya Pradesh' 'Maharashtra' 'Manipur' 'Meghalaya'\n",
      " 'Mizoram' 'Nagaland' 'Odisha' 'Puducherry' 'Punjab' 'Rajasthan' 'Sikkim'\n",
      " 'Tamil Nadu' 'Telangana' 'Uttar Pradesh' 'Uttarakhand' 'Uttaranchal'\n",
      " 'West Bengal' 'andaman-and-nicobar-islands' 'Lakshadweep' 'Tripura'] \n",
      "\n",
      "\n",
      "location:\n",
      " ['Hyderabad' 'Vishakhapatnam' 'Visakhapatnam' 'Tirupati' 'Vijayawada'\n",
      " 'Patancheru' 'Ramagundam' 'Kurnool' 'Guntur' 'Nalgonda' 'Nellore'\n",
      " 'Warangal' 'Chittoor' 'Khammam' 'Kakinada' 'Ananthapur' 'Eluru' 'Kadapa'\n",
      " 'Karimnagar' 'Nizamabad' 'Ongole' 'Rajahmundry' 'Sangareddy' 'Srikakulam'\n",
      " 'Vizianagaram' 'Itanagar' 'Naharlagun' 'Guwahati' 'Bongaigaon'\n",
      " 'Dibrugarh' 'Golaghat' 'Hailakandi' 'Sibsagar' 'Tezpur' 'Silchar'\n",
      " 'Daranga' 'Lakhimpur' 'Nagaon' 'Nalbari' 'Sivasagar' 'Silcher' 'Tinsukia'\n",
      " 'Margherita' 'Sindri' 'Jharia' 'Dhanbad' 'Jamshedpur' 'Patna'\n",
      " 'Chandigarh' 'Korba' 'Bhilai Nagar' 'Raipur' 'Bhilai' 'Bilaspur' 'Daman'\n",
      " 'Silvassa' 'Khadoli' 'Daman Diu & Nagar' 'Delhi' 'Ponda' 'Vasco' 'Panjim'\n",
      " 'Panaji' 'Mormugao' 'Amona' 'Assanora' 'Bicholim' 'Codli' 'Curchorem'\n",
      " 'Honda' 'Usgao' 'Kundaim' 'Mapusa' 'Margao' 'Sanguem' 'Tilamol'\n",
      " 'Cuncolim' 'Baroda' 'Surat' 'Ahmedabad' 'Vapi' 'Ankleshwar' 'Rajkot'\n",
      " 'Bharuch' 'Jamnagar' 'Vadodara' 'Anklesvar' 'ANKLESHWAR' 'VAPI' 'Bhuj'\n",
      " 'MORBI' 'SANAND' 'Sarigam' 'Faridabad' 'Yamuna Nagar' 'Dharuhera' 'Hisar'\n",
      " 'Yamunanagar' 'Shimla' 'Paonta Sahib' 'Parwanoo' 'Damtal' 'Baddi' 'Nahan'\n",
      " 'Nalagarh' 'Kala Amb' 'Manali' 'Sunder Nagar' 'Una' 'Dharamshala' 'Jammu'\n",
      " 'Ranchi' 'West Singhbhum' 'Saraikela Kharsawan' 'Mysore' 'Bangalore'\n",
      " 'Belgaum' 'Gulbarga' 'Hassan' 'Hubli-Dharwad' 'Mangalore' 'Davangere'\n",
      " 'Dharwad' 'Hubli' 'Bidar' 'Domlur' 'Chitradurga' 'Ranebennur' 'Kolar'\n",
      " 'Mandya' 'Raichur' 'Shimoga' 'Tumkur' 'Bijapur' 'Cochin' 'Kotttayam'\n",
      " 'Kottayam' 'Kozhikode' 'Trivendrum' 'Palakkad' 'Kochi' 'Trivandrum'\n",
      " 'Alappuzha' 'Kollam' 'Malappuram' 'Thiruvananthapuram' 'Pathanamthitta'\n",
      " 'Thissur' 'Wayanad' 'Nagda' 'Satna' 'Indore' 'Bhopal' 'Jabalpur'\n",
      " 'Gwalior' 'Ujjain' 'Dewas' 'Khajuraho' 'Sagar' 'Singrauli' 'Chhindwara'\n",
      " 'Amlai' 'Pithampur' 'Pune' 'Bombay' 'Nagpur' 'Chandarpur' 'Aurangabad'\n",
      " 'Chandrapur' 'Nashik' 'Dombivli' 'Solapur' 'Thane' 'Mumbai'\n",
      " 'Aurangabad (MS)' 'Greater Mumbai' 'Kolhapur' 'Amravati' 'Lote'\n",
      " 'Navi Mumbai' 'Tarapur' 'Mahad' 'Badlapur' 'Jalgaon' 'Latur' 'Roha'\n",
      " 'Sangli' 'Ulhasnagar' 'Akola' 'Jalna' 'Nanded' 'Imphal' 'Shillong'\n",
      " 'Byrnihat' 'Dawki' 'Tura' 'Khliehriat' 'Nongstoin' 'Umsning' 'Aizawl'\n",
      " 'Champhai' 'Kolasib' 'Lunglei' 'Dimapur' 'Kohima' 'Angul' 'Talcher'\n",
      " 'Rourkela' 'Nalco' 'Rayagada' 'Bhubaneswar' 'Bhubaneshwar' 'Cuttack'\n",
      " 'Sambalpur' 'Berhampur' 'Balasore' 'Kalinga Nagar' 'Paradeep' 'Keonjhar'\n",
      " 'Konark' 'Puri' 'Pondichery' 'Pondicherry' 'Karaikal' 'Ludhiana'\n",
      " 'Jalandhar' 'Patiala' 'Gobindgarh' 'Naya Nangal' 'Amritsar' 'Bathinda'\n",
      " 'Dera Bassi' 'Khanna' 'Dera Baba' 'Sangrur' 'Faridkot' 'Hoshiarpur'\n",
      " 'Kota' 'Jaipur' 'Alwar' 'Jodhpur' 'Chittorgarh' 'Udaipur' 'Gangtok'\n",
      " 'Madras' 'Turicorin' 'Tuticorin' 'Coimbatore' 'Madurai' 'Salem' 'Chennai'\n",
      " 'Thoothukudi' 'Trichy' 'Mettur' 'Cuddalore' 'Kothur' 'Agra' 'Anpara'\n",
      " 'Dehradoon' 'Lucknow' 'Kanpur' 'Gajroula' 'Varanasi' 'Noida, Ghaziabad'\n",
      " 'Ghaziabad' 'Noida' 'Renusagar' 'Gajraula' 'Firozabad' 'Jhansi' 'Khurja'\n",
      " 'Allahabad' 'Meerut' 'Bareilly' 'Gorakhpur' 'Mathura' 'Moradabad'\n",
      " 'Rai Bareilly' 'Saharanpur' 'Unnao' 'Dehradun' 'Haldwani' 'Haridwar'\n",
      " 'Kashipur' 'Rishikesh' 'Rudrapur' 'Haldia' 'Howrah' 'Calcutta' 'Durgapur'\n",
      " 'Asansol' 'Kolkata' 'Durgapur (WB)' 'Baruipur' 'Barrackpore' 'Raniganj'\n",
      " 'Sankrail' 'South Suburban' 'DANKUNI' 'HALDIA' 'Kalyani' 'MALDAH'\n",
      " 'SILIGURI' 'ULUBERIA' nan] \n",
      "\n",
      "\n",
      "type:\n",
      " ['Residential, Rural and other Areas' 'Industrial Area' nan\n",
      " 'Sensitive Area' 'Industrial Areas' 'Residential and others'\n",
      " 'Sensitive Areas' 'Industrial' 'Residential' 'RIRUO' 'Sensitive'] \n",
      "\n",
      "\n",
      "date:\n",
      " ['2/1/90' '3/1/90' '4/1/90' ... '5/8/87' '9/10/87' '6/11/87'] \n",
      "\n",
      "\n"
     ]
    }
   ],
   "source": [
    "# Write your code here\n",
    "\n",
    "text_columns = []\n",
    "\n",
    "for key in df.keys():\n",
    "    if df[key].dtype == 'object':\n",
    "        text_columns.append(key)\n",
    "\n",
    "for column_name in text_columns:\n",
    "    print(column_name+':\\n', df[column_name].unique(),'\\n\\n')\n",
    "    \n",
    "# OR\n",
    "\n",
    "for key in df.keys():\n",
    "    if df[key].dtype == 'object':\n",
    "        print(key+':\\n', df[key].unique(),'\\n\\n')"
   ]
  },
  {
   "cell_type": "markdown",
   "metadata": {},
   "source": [
    "### Exercise 4: Changing Text Entries\n",
    "\n",
    "You may have noticed in the type column that there is an 'Industrial Area', 'Industrial Areas' and 'Industrial'. These are the same thing and, thus, we need to bring them into alignment.\n",
    "\n",
    "You may have also noticed that in the same column there is a 'Sensitive Area', 'Sensitive Areas', and 'Sensitive'. Again, these are the same thing and we need to bring them into alignment. \n",
    "\n",
    "We also have a long entry 'Residential, Rural and other Areas'. Let's chop those entries down to \"RRO\"\n",
    "\n",
    "Write the code to clean these two areas. For simplicity, we want the end result for all of 'Industrial' to read 'Industrial', all of 'Sensitive' to read 'Sensitive', and the 'Residential, Rural and other Areas\" to read 'RRO'. \n",
    "\n",
    "Hint: As a team, investigate the `.replace( )` command."
   ]
  },
  {
   "cell_type": "code",
   "execution_count": 16,
   "metadata": {
    "ExecuteTime": {
     "end_time": "2020-10-11T18:10:22.645854Z",
     "start_time": "2020-10-11T18:10:21.225951Z"
    }
   },
   "outputs": [
    {
     "data": {
      "text/plain": [
       "array(['RRO', 'Industrial', nan, 'Sensitive', 'Residential and others',\n",
       "       'Residential', 'RIRUO'], dtype=object)"
      ]
     },
     "execution_count": 16,
     "metadata": {},
     "output_type": "execute_result"
    }
   ],
   "source": [
    "# Write your code here\n",
    "\n",
    "df.replace('Sensitive Area', 'Sensitive', inplace=True)\n",
    "df.replace('Sensitive Areas', 'Sensitive', inplace=True)\n",
    "df.replace('Industrial Area', 'Industrial', inplace=True)\n",
    "df.replace('Industrial Areas', 'Industrial', inplace=True)\n",
    "df.replace('Residential, Rural and other Areas', 'RRO', inplace=True)\n",
    "\n",
    "\n",
    "df['type'].unique()"
   ]
  },
  {
   "cell_type": "markdown",
   "metadata": {},
   "source": [
    "## We only need the year\n",
    "\n",
    "The 'date' column, as we saw above, is an object. We need to change that to a datetime type. I will help you with this. Note the code that I use so you can use it later on your own. \n",
    "\n",
    "As we saw above also, there are 7 entries missing dates in our dataset. We will also filter out those rows specifically, then drop them from our dataset. \n",
    "\n",
    "Hint: As a team, investigate\n",
    "1. how to convert the date column to *datetime*.\n",
    "1. how to use the `.isnull( )` command to find the empty values.\n",
    "1. how to use the `.dropna( )` command to drop the empty values."
   ]
  },
  {
   "cell_type": "code",
   "execution_count": 17,
   "metadata": {
    "ExecuteTime": {
     "end_time": "2020-10-11T18:10:23.107511Z",
     "start_time": "2020-10-11T18:10:22.647917Z"
    }
   },
   "outputs": [
    {
     "name": "stdout",
     "output_type": "stream",
     "text": [
      "<class 'pandas.core.frame.DataFrame'>\n",
      "RangeIndex: 435742 entries, 0 to 435741\n",
      "Data columns (total 9 columns):\n",
      "state       435742 non-null object\n",
      "location    435739 non-null object\n",
      "type        430349 non-null object\n",
      "so2         401096 non-null float64\n",
      "no2         419509 non-null float64\n",
      "rspm        395520 non-null float64\n",
      "spm         198355 non-null float64\n",
      "pm2_5       9314 non-null float64\n",
      "date        435735 non-null datetime64[ns]\n",
      "dtypes: datetime64[ns](1), float64(5), object(3)\n",
      "memory usage: 29.9+ MB\n"
     ]
    }
   ],
   "source": [
    "df['date'] = pd.to_datetime(df['date']) # Convert date column to datetime\n",
    "\n",
    "philter = df['date'].isnull() # Establish a filter where year is NaN \n",
    "df[philter].dropna() #Drop all years that meet the filter criteria\n",
    "\n",
    "df.info()"
   ]
  },
  {
   "cell_type": "markdown",
   "metadata": {
    "ExecuteTime": {
     "end_time": "2019-12-26T22:17:15.044057Z",
     "start_time": "2019-12-26T22:17:15.031794Z"
    }
   },
   "source": [
    "# Now let's do some plotting\n",
    "\n",
    "Looking over our data, it appears to be clean, so let's go to the next phase of an EDA, the VDA (Visual Data Analysis) - plotting our values. \n",
    "\n",
    "## Exercise 5: Correlation/Confusion Matrix\n",
    "To start, let's do a Confusion/Correlation Matrix of the numeric columns. We talked about this in the 011 meeting. This will show us if there are any values which positively or negatively correlate to each other.\n",
    "\n",
    "As a team using Seaborn, \n",
    "1. plot a heatmap (the Seaborn version of a Correlation Matrix).\n",
    "1. note any patterns in the data."
   ]
  },
  {
   "cell_type": "code",
   "execution_count": 18,
   "metadata": {
    "ExecuteTime": {
     "end_time": "2020-10-11T18:10:23.411003Z",
     "start_time": "2020-10-11T18:10:23.109128Z"
    }
   },
   "outputs": [
    {
     "data": {
      "image/png": "[encoded data removed]",
      "text/plain": [
       "<Figure size 720x720 with 2 Axes>"
      ]
     },
     "metadata": {
      "needs_background": "light"
     },
     "output_type": "display_data"
    }
   ],
   "source": [
    "# Write your code here\n",
    "\n",
    "plt.figure(figsize = (10,10))\n",
    "sns.heatmap(df.corr(), annot=True)\n",
    "plt.title(\"Confusion Matrix: Coefficients\", fontsize = 28)\n",
    "plt.show()"
   ]
  },
  {
   "cell_type": "markdown",
   "metadata": {},
   "source": [
    "## Exercise 6: Pairplot\n",
    "\n",
    "In the block below, as a team using Seaborn, \n",
    "1. create a pairplot so we can look at all of the variables and how they correlate to each other graphically. \n",
    "1. note any feature pairs that appear to call for further investigation for having a linear pattern."
   ]
  },
  {
   "cell_type": "code",
   "execution_count": 19,
   "metadata": {
    "ExecuteTime": {
     "end_time": "2020-10-11T18:10:31.696696Z",
     "start_time": "2020-10-11T18:10:23.412568Z"
    }
   },
   "outputs": [
    {
     "data": {
      "image/png": "[encoded data removed]",
      "text/plain": [
       "<Figure size 900x900 with 30 Axes>"
      ]
     },
     "metadata": {
      "needs_background": "light"
     },
     "output_type": "display_data"
    }
   ],
   "source": [
    "sns.pairplot(data=df)\n",
    "plt.show()"
   ]
  },
  {
   "cell_type": "code",
   "execution_count": 20,
   "metadata": {
    "ExecuteTime": {
     "end_time": "2020-10-11T18:10:31.865819Z",
     "start_time": "2020-10-11T18:10:31.698529Z"
    },
    "scrolled": true
   },
   "outputs": [
    {
     "name": "stdout",
     "output_type": "stream",
     "text": [
      "The time is  11:10:31 \n",
      "\n",
      "😀 GOOD MORNING! \n",
      "\n",
      "\n",
      " \n",
      " ____________________________________________________ \n",
      " \n",
      " YOUR FORTUNE COOKIE THOUGHT FOR TODAY:  \n",
      " \n",
      " If I have to ask you for your attention, then you don't deserve mine. \n",
      " \n",
      " ____________________________________________________ \n",
      " \n",
      "\n",
      "🧐 I am initiating the following for us: \n",
      " \n",
      "\n",
      "1.  Warnings: Off\n",
      "2.  Pandas Initiated as pd\n",
      "3.  Numpy Initiated as np\n",
      "4.  Matplotlib.pyplot Initiated as plt\n",
      "5.  Seaborn Initiated as sns. Style is set at 'darkgrid'.\n",
      "6.  ggplot is having problems.\n",
      "7.  Matplotlib Initiated as mpl. Matplotlib style set to \"fivethirtyeight\"\n",
      "8.  tqdm Initiated\n",
      "9.  Random Seed set at: 42\n",
      "10. IPython Display Initiated\n",
      "11. BeautifulSoup Initiated\n",
      "12. Import csv Initiated\n",
      "13. Import random Initiated \n",
      "\n",
      "14. Any other library that you will need for the functions will be initiated as you call for them.\n",
      "___________________________________________ \n",
      " \n",
      " 🧐 The following functions are also ready: \n",
      "\n",
      "\n",
      " eda(df) function ready for use. \n",
      " \t The eda(df) function will return a basic eda on our DataFrame. This includes the DataFrame's shape,\n",
      " \t description, data types, statistical information.\n",
      "\n",
      " vda(df) function ready for use. \n",
      " \t This function will return a visual data analysis of both the numeric and categorical columns in \n",
      " \t the DataFrame.\n",
      "\n",
      " histogram(df) function ready for use - in the event you want to do a separate one. \n",
      " \t This function will return a histogram of both the numeric and categorical columns in \n",
      " \t the DataFrame.\n",
      "\n",
      " two_dimension_histogram(x, y) function is ready for use - in the event you want to do a separate one. \n",
      " \t This function will return a two dimensional histogram. This will provide counts of features  \n",
      " \t against another feature.\n",
      "\n",
      " pairplot(df, feature) function ready for use - in the event you want to do a separate one. \n",
      " \t This function will return a pairplot of both the numeric columns in the DataFrame \n",
      " \t against the feature you specify.\n",
      "\n",
      " heatmap(df) function ready for use - in the event you want to do a separate one. \n",
      " \t This function will return a heatmap of the numeric columns in the DataFrame.\n",
      "\n",
      " kdeplot(df) function ready for use - in the event you want to do a separate one. \n",
      " \t This function will return a kdeplot of the categorical columns in the DataFrame.\n",
      "\n",
      " correlations(compare_feature, df) function ready for use. \n",
      " \t This function will return a list of the correlations between the numeric columns in the DataFrame. \n",
      " \t Additionally, this function will return three evaluations of the correlations (STRONGLY, MILDLY, or \n",
      " \t NEGATIVELY). STRONGLY correlated are those greater than 0.50. MILDLY correlated are those between 0.40 \n",
      " \t and 0.49. NEGATIVELY correlated are any negative correlations. \n",
      " \t It will return strong_correlation, mild_correlation, and neg_correlation. \n",
      " \n",
      " \t IT WILL NOT RETURN AN EVALUATION FOR CORRELATIONS BETWEEN 0.0 - 0.39.\n",
      "\n",
      " do_we_need_to_clean(df) function ready for use. \n",
      " \t This function will evaluate our dataset for null values. It will return a recommended_drop_list \n",
      " \t of features where more than 10.01% of total values for that feature are null or missing.\n",
      " \t When used in conjunction with drop_recommended_list(df), this function makes cleaning data just \n",
      " \t a bit easier. However, IT IS NOT DESIGNED TO DO ALL OF THE DATA CLEANING.\n",
      "\n",
      " drop_recommended_list(df) function ready for use. \n",
      " \t This function will delete from the DataFrame the features identified in the \"recommended_drop_list\" \n",
      " \t from the \"do_we_need_to_clean(df)\" function.\n",
      "\n",
      " break_down_features(df) function ready for use. \n",
      " \t This function will split the numeric and categorical features into two sets: num_columns, cat_columns.\n",
      "\n",
      " predictive_strength(df) function ready for use. \n",
      " \t This function determines the prescriptive strength of numeric features in our dataset. 'Prescriptive \n",
      " \t Strength' equals the measure of precentage of null values plus skew of the feature's data subtracted  \n",
      " \t from 100%. The result tells us the feature's value's confidence score. A 100 score says that there are \n",
      " \t no nulls within the data set and there is no skew to the data.\n",
      "\n",
      " pandas_profiling(df) function ready for use. \n",
      " \t The pandas_profiling(df) function will return an advanced eda on our DataFrame. This includes the  \n",
      " \t DataFrame's shape, description, data types, statistical information.\n",
      "\n",
      " feature_review(df) function ready for use. \n",
      " \t The feature_review(df) function will ask the analyst to look at each feature one at a time. \n",
      " \t During each examination, Python will show the analyst salient aspects of each feature and pose to \n",
      " \t analyst the ability to change the feature type and delete the feature from the dataset.\n",
      "\n",
      " ___________________________________________ \n",
      "\n",
      "\n",
      " \n",
      " 🙏 🙏 PLEASE INITIATE %matplotlib inline OR %matplotlib notebook before we go further. Thank you!\n"
     ]
    }
   ],
   "source": [
    "%run lib/__eda_init__.py\n",
    "%matplotlib inline"
   ]
  },
  {
   "cell_type": "markdown",
   "metadata": {},
   "source": [
    "# Functions\n",
    "\n",
    "As you look at what you have done, can you imagine doing this repeatedly for every dataset that you encounter? If a sigh of despair doesn't emanate from you at the thought of this, congratulations! If one does, then let's use **Functions** to make our life easier. \n",
    "\n",
    "A **function** is a sub-routine (small program inside your regular program) which you define and give a name. Once you have done this, then anytime you pull up that given name, Python will run that sub-routine without you having to code all of the lines of code again. \n",
    "\n",
    "To start defining a function, we have to tell Python that a new function is being *defined*. In Python this is done with the `def` command. \n",
    "\n",
    "After we use the `def` command, we give the function a name for Python to learn, and we give the data that we are going to use, sorta. Let's look at an example. \n",
    "\n",
    "## Functions Example 1\n",
    "\n",
    "We want to define a function that returns the square of whatever number we give it. And we want to call this function, \"square\". Look at the code below as we talk through it. (Yes, there are other ways to handle getting a square of a number in Python, but this is an illustrative example.)"
   ]
  },
  {
   "cell_type": "code",
   "execution_count": 21,
   "metadata": {
    "ExecuteTime": {
     "end_time": "2020-10-11T18:10:31.869424Z",
     "start_time": "2020-10-11T18:10:31.867047Z"
    },
    "hide_input": false
   },
   "outputs": [],
   "source": [
    "# Defining a function that will give us the square of any number we put into it.\n",
    "\n",
    "def square(number):\n",
    "    sq = number * number\n",
    "    return sq"
   ]
  },
  {
   "cell_type": "markdown",
   "metadata": {
    "ExecuteTime": {
     "end_time": "2020-01-11T21:49:53.634628Z",
     "start_time": "2020-01-11T21:49:53.630882Z"
    }
   },
   "source": [
    "Now that we have defined the square function for Python, every time we use this function after it has run Python will run this sub-routine (function). \n",
    "\n",
    "In the next block, as an example, we have a test_list of numbers. Up to now, if we wanted to find the square of each number in the list, we would write the following. "
   ]
  },
  {
   "cell_type": "code",
   "execution_count": 22,
   "metadata": {
    "ExecuteTime": {
     "end_time": "2020-10-11T18:10:31.874407Z",
     "start_time": "2020-10-11T18:10:31.871080Z"
    }
   },
   "outputs": [
    {
     "name": "stdout",
     "output_type": "stream",
     "text": [
      "1\n",
      "4\n",
      "9\n",
      "16\n",
      "25\n"
     ]
    }
   ],
   "source": [
    "test_list = [1, 2, 3, 4, 5]\n",
    "\n",
    "for num in test_list:\n",
    "    number = num * num\n",
    "    print(number)"
   ]
  },
  {
   "cell_type": "markdown",
   "metadata": {},
   "source": [
    "However, now that you have defined a function to find the square, this is how we would right the code for finding the square of each number in a list now. "
   ]
  },
  {
   "cell_type": "code",
   "execution_count": 23,
   "metadata": {
    "ExecuteTime": {
     "end_time": "2020-10-11T18:10:31.879040Z",
     "start_time": "2020-10-11T18:10:31.875779Z"
    },
    "hide_input": false,
    "scrolled": true
   },
   "outputs": [
    {
     "name": "stdout",
     "output_type": "stream",
     "text": [
      "1\n",
      "4\n",
      "9\n",
      "16\n",
      "25\n"
     ]
    }
   ],
   "source": [
    "test_list = [1, 2, 3, 4, 5]\n",
    "\n",
    "for num in test_list:\n",
    "    print(square(num))"
   ]
  },
  {
   "cell_type": "markdown",
   "metadata": {},
   "source": [
    "Notice the difference in the code snippets. While our example is quite small and simple, we have reduced two lines of code down to one. If whatever program we now write requires us to do this multiple times, the savings in lines of code begin to multiply. \n",
    "\n",
    "A function can do anything that any other Python programming code can do. It just does it in one line of code rather than several. \n",
    "\n",
    "## Example 2\n",
    "\n",
    "Let's move on to another example that is a bit larger just to illustrate the power of functions. \n",
    "\n",
    "In this example I want to:\n",
    "1. generate any amount of random numbers (*n*)\n",
    "1. they are to start with a number I give Python (*start*)\n",
    "1. they are to finish with a number I give Python (*finish*)\n",
    "1. AND they are to return all of the even random numbers generated as a list"
   ]
  },
  {
   "cell_type": "code",
   "execution_count": 24,
   "metadata": {
    "ExecuteTime": {
     "end_time": "2020-10-11T18:10:31.883823Z",
     "start_time": "2020-10-11T18:10:31.880580Z"
    },
    "hide_input": false
   },
   "outputs": [],
   "source": [
    "def random_even_numbers(n, start, finish):\n",
    "    import random\n",
    "    test_list = []\n",
    "    for _ in range(n):\n",
    "        a = random.randint(start, finish)\n",
    "        if (a % 2) == 0:\n",
    "            test_list.append(a)\n",
    "    return test_list"
   ]
  },
  {
   "cell_type": "code",
   "execution_count": 25,
   "metadata": {
    "ExecuteTime": {
     "end_time": "2020-10-11T18:10:31.887927Z",
     "start_time": "2020-10-11T18:10:31.885211Z"
    },
    "hide_input": false,
    "scrolled": true
   },
   "outputs": [
    {
     "name": "stdout",
     "output_type": "stream",
     "text": [
      "[34, 146, 200, 152, 12, 248, 174, 236, 168, 216, 174, 194, 220, 218, 248, 134, 62, 166, 238, 32, 168, 192, 124]\n"
     ]
    }
   ],
   "source": [
    "print(random_even_numbers(50,1,250))"
   ]
  },
  {
   "cell_type": "markdown",
   "metadata": {},
   "source": [
    "Now, anytime we want to generate a group of random even numbers, we simply have to use the name of the function. \n",
    "\n",
    "And do the numbers still come out as a list?\n",
    "\n",
    "Let's find out!"
   ]
  },
  {
   "cell_type": "code",
   "execution_count": 26,
   "metadata": {
    "ExecuteTime": {
     "end_time": "2020-10-11T18:10:31.893921Z",
     "start_time": "2020-10-11T18:10:31.889647Z"
    }
   },
   "outputs": [
    {
     "data": {
      "text/plain": [
       "list"
      ]
     },
     "execution_count": 26,
     "metadata": {},
     "output_type": "execute_result"
    }
   ],
   "source": [
    "type(random_even_numbers(50, 1, 250))"
   ]
  },
  {
   "cell_type": "markdown",
   "metadata": {},
   "source": [
    "Now let's complicate the function further. \n",
    "\n",
    "We want to do all of the same things as in our last example, but rather than one list of even numbers, we want the function to return two lists, one of even numbers only and the second of odd numbers only. "
   ]
  },
  {
   "cell_type": "code",
   "execution_count": 27,
   "metadata": {
    "ExecuteTime": {
     "end_time": "2020-10-11T18:10:31.898502Z",
     "start_time": "2020-10-11T18:10:31.895489Z"
    }
   },
   "outputs": [],
   "source": [
    "def random_sorted_numbers(n, start, finish):\n",
    "    import random\n",
    "    even_list = []\n",
    "    odd_list = []\n",
    "    for _ in range(n):\n",
    "        a = random.randint(start, finish)\n",
    "        if (a % 2) == 0:\n",
    "            even_list.append(a)\n",
    "        else:\n",
    "            odd_list.append(a)\n",
    "    return even_list, odd_list"
   ]
  },
  {
   "cell_type": "code",
   "execution_count": 28,
   "metadata": {
    "ExecuteTime": {
     "end_time": "2020-10-11T18:10:31.904106Z",
     "start_time": "2020-10-11T18:10:31.899970Z"
    }
   },
   "outputs": [
    {
     "name": "stdout",
     "output_type": "stream",
     "text": [
      "Even_list: [6, 64, 6, 118, 136, 30, 88, 204]\n",
      "Even_list count: 8\n",
      "Odd_list: [127, 3, 235, 141]\n",
      "Odd_list count: 4\n"
     ]
    }
   ],
   "source": [
    "even, odd = random_sorted_numbers(12, 1, 250)\n",
    "\n",
    "print('Even_list:', even)\n",
    "print('Even_list count:', len(even))\n",
    "print('Odd_list:', odd)\n",
    "print('Odd_list count:', len(odd))"
   ]
  },
  {
   "cell_type": "markdown",
   "metadata": {},
   "source": [
    "## Example 3: How to use these to our advantage"
   ]
  },
  {
   "cell_type": "code",
   "execution_count": 29,
   "metadata": {
    "ExecuteTime": {
     "end_time": "2020-10-11T18:10:32.003883Z",
     "start_time": "2020-10-11T18:10:31.906334Z"
    }
   },
   "outputs": [],
   "source": [
    "%run lib/simple_eda.py #calls forward a .py file and runs it\n",
    "%matplotlib inline"
   ]
  },
  {
   "cell_type": "code",
   "execution_count": 30,
   "metadata": {
    "ExecuteTime": {
     "end_time": "2020-10-11T18:10:32.248199Z",
     "start_time": "2020-10-11T18:10:32.005454Z"
    }
   },
   "outputs": [
    {
     "name": "stdout",
     "output_type": "stream",
     "text": [
      "DataFrame Shape:\n",
      " (435742, 9) \n",
      "\n",
      "\n"
     ]
    },
    {
     "data": {
      "text/plain": [
       "'DataFrame Head:'"
      ]
     },
     "metadata": {},
     "output_type": "display_data"
    },
    {
     "data": {
      "text/html": [
       "<div>\n",
       "<style scoped>\n",
       "    .dataframe tbody tr th:only-of-type {\n",
       "        vertical-align: middle;\n",
       "    }\n",
       "\n",
       "    .dataframe tbody tr th {\n",
       "        vertical-align: top;\n",
       "    }\n",
       "\n",
       "    .dataframe thead th {\n",
       "        text-align: right;\n",
       "    }\n",
       "</style>\n",
       "<table border=\"1\" class=\"dataframe\">\n",
       "  <thead>\n",
       "    <tr style=\"text-align: right;\">\n",
       "      <th></th>\n",
       "      <th>0</th>\n",
       "      <th>1</th>\n",
       "      <th>2</th>\n",
       "      <th>3</th>\n",
       "      <th>4</th>\n",
       "    </tr>\n",
       "  </thead>\n",
       "  <tbody>\n",
       "    <tr>\n",
       "      <th>state</th>\n",
       "      <td>Andhra Pradesh</td>\n",
       "      <td>Andhra Pradesh</td>\n",
       "      <td>Andhra Pradesh</td>\n",
       "      <td>Andhra Pradesh</td>\n",
       "      <td>Andhra Pradesh</td>\n",
       "    </tr>\n",
       "    <tr>\n",
       "      <th>location</th>\n",
       "      <td>Hyderabad</td>\n",
       "      <td>Hyderabad</td>\n",
       "      <td>Hyderabad</td>\n",
       "      <td>Hyderabad</td>\n",
       "      <td>Hyderabad</td>\n",
       "    </tr>\n",
       "    <tr>\n",
       "      <th>type</th>\n",
       "      <td>RRO</td>\n",
       "      <td>Industrial</td>\n",
       "      <td>RRO</td>\n",
       "      <td>RRO</td>\n",
       "      <td>Industrial</td>\n",
       "    </tr>\n",
       "    <tr>\n",
       "      <th>so2</th>\n",
       "      <td>4.8</td>\n",
       "      <td>3.1</td>\n",
       "      <td>6.2</td>\n",
       "      <td>6.3</td>\n",
       "      <td>4.7</td>\n",
       "    </tr>\n",
       "    <tr>\n",
       "      <th>no2</th>\n",
       "      <td>17.4</td>\n",
       "      <td>7</td>\n",
       "      <td>28.5</td>\n",
       "      <td>14.7</td>\n",
       "      <td>7.5</td>\n",
       "    </tr>\n",
       "    <tr>\n",
       "      <th>rspm</th>\n",
       "      <td>NaN</td>\n",
       "      <td>NaN</td>\n",
       "      <td>NaN</td>\n",
       "      <td>NaN</td>\n",
       "      <td>NaN</td>\n",
       "    </tr>\n",
       "    <tr>\n",
       "      <th>spm</th>\n",
       "      <td>NaN</td>\n",
       "      <td>NaN</td>\n",
       "      <td>NaN</td>\n",
       "      <td>NaN</td>\n",
       "      <td>NaN</td>\n",
       "    </tr>\n",
       "    <tr>\n",
       "      <th>pm2_5</th>\n",
       "      <td>NaN</td>\n",
       "      <td>NaN</td>\n",
       "      <td>NaN</td>\n",
       "      <td>NaN</td>\n",
       "      <td>NaN</td>\n",
       "    </tr>\n",
       "    <tr>\n",
       "      <th>date</th>\n",
       "      <td>1990-02-01 00:00:00</td>\n",
       "      <td>1990-02-01 00:00:00</td>\n",
       "      <td>1990-02-01 00:00:00</td>\n",
       "      <td>1990-03-01 00:00:00</td>\n",
       "      <td>1990-03-01 00:00:00</td>\n",
       "    </tr>\n",
       "  </tbody>\n",
       "</table>\n",
       "</div>"
      ],
      "text/plain": [
       "                            0                    1                    2  \\\n",
       "state          Andhra Pradesh       Andhra Pradesh       Andhra Pradesh   \n",
       "location            Hyderabad            Hyderabad            Hyderabad   \n",
       "type                      RRO           Industrial                  RRO   \n",
       "so2                       4.8                  3.1                  6.2   \n",
       "no2                      17.4                    7                 28.5   \n",
       "rspm                      NaN                  NaN                  NaN   \n",
       "spm                       NaN                  NaN                  NaN   \n",
       "pm2_5                     NaN                  NaN                  NaN   \n",
       "date      1990-02-01 00:00:00  1990-02-01 00:00:00  1990-02-01 00:00:00   \n",
       "\n",
       "                            3                    4  \n",
       "state          Andhra Pradesh       Andhra Pradesh  \n",
       "location            Hyderabad            Hyderabad  \n",
       "type                      RRO           Industrial  \n",
       "so2                       6.3                  4.7  \n",
       "no2                      14.7                  7.5  \n",
       "rspm                      NaN                  NaN  \n",
       "spm                       NaN                  NaN  \n",
       "pm2_5                     NaN                  NaN  \n",
       "date      1990-03-01 00:00:00  1990-03-01 00:00:00  "
      ]
     },
     "metadata": {},
     "output_type": "display_data"
    },
    {
     "name": "stdout",
     "output_type": "stream",
     "text": [
      "\n",
      "\n",
      "DataFrame Statistical Description:\n",
      "                  so2            no2           rspm            spm        pm2_5\n",
      "count  401096.000000  419509.000000  395520.000000  198355.000000  9314.000000\n",
      "mean       10.829414      25.809623     108.832784     220.783480    40.791467\n",
      "std        11.177187      18.503086      74.872430     151.395457    30.832525\n",
      "min         0.000000       0.000000       0.000000       0.000000     3.000000\n",
      "25%         5.000000      14.000000      56.000000     111.000000    24.000000\n",
      "50%         8.000000      22.000000      90.000000     187.000000    32.000000\n",
      "75%        13.700000      32.200000     142.000000     296.000000    46.000000\n",
      "max       909.000000     876.000000    6307.033333    3380.000000   504.000000 \n",
      "\n",
      "\n",
      "DataFrame Column Types:\n",
      " state               object\n",
      "location            object\n",
      "type                object\n",
      "so2                float64\n",
      "no2                float64\n",
      "rspm               float64\n",
      "spm                float64\n",
      "pm2_5              float64\n",
      "date        datetime64[ns]\n",
      "dtype: object \n",
      "\n",
      "\n",
      "\n",
      "DataFrame count:  \n",
      " state       435742\n",
      "location    435739\n",
      "type        430349\n",
      "so2         401096\n",
      "no2         419509\n",
      "rspm        395520\n",
      "spm         198355\n",
      "pm2_5         9314\n",
      "date        435735\n",
      "dtype: int64\n",
      "\n",
      "\n",
      "DataFrame Null Value Count:\n",
      " state            0\n",
      "location         3\n",
      "type          5393\n",
      "so2          34646\n",
      "no2          16233\n",
      "rspm         40222\n",
      "spm         237387\n",
      "pm2_5       426428\n",
      "date             7\n",
      "dtype: int64\n"
     ]
    }
   ],
   "source": [
    "simple_eda(df)"
   ]
  },
  {
   "cell_type": "markdown",
   "metadata": {},
   "source": [
    "## Exercise 7: EDA Function\n",
    "\n",
    "Now that we have covered functions briefly, let's do a two part exercise. \n",
    "\n",
    "### Part 1\n",
    "\n",
    "In the next block, write out a function that we will call, `eda`. Write the function so that it does all of the work of the preliminary EDA for a dataset.\n",
    "\n",
    "1. Provides the DataFrame shape\n",
    "1. Provides the DataFrame's head\n",
    "1. Provides the DataFrame's info\n",
    "1. Provides the DataFrame's statistical description\n",
    "1. Provides the DataFrame's column names and variable type\n",
    "1. Provides the DataFrame's value count for each column\n",
    "1. Provides the DataFrame's null value count by column\n",
    "1. Separates the DataFrame's columns into a numeric columns list and a categorical columns list\n",
    "\n",
    "Once you have a single function to do this, run it to test it. When you are satisfied with what you have done, let me know."
   ]
  },
  {
   "cell_type": "code",
   "execution_count": 31,
   "metadata": {
    "ExecuteTime": {
     "end_time": "2020-10-11T18:10:32.252625Z",
     "start_time": "2020-10-11T18:10:32.249293Z"
    }
   },
   "outputs": [],
   "source": [
    "#Write your Code here\n",
    "def eda(df):\n",
    "    print('DataFrame Shape:\\n', df.shape, '\\n\\n')\n",
    "    display('DataFrame Head:', df.head())\n",
    "    print('\\n\\nDataFrame Statistical Description:\\n', df.describe(), '\\n\\n')\n",
    "    print('DataFrame Column Types:\\n', df.dtypes,'\\n\\n')\n",
    "    print('\\nDataFrame count: ', '\\n', df.count())\n",
    "    print('\\n\\nDataFrame Null Value Count:\\n', df.isnull().sum())\n",
    "    print('\\n\\nNumber of Duplicated Rows:\\n', df.duplicated().sum())\n",
    "    \n",
    "\n"
   ]
  },
  {
   "cell_type": "code",
   "execution_count": 32,
   "metadata": {
    "ExecuteTime": {
     "end_time": "2020-10-11T18:15:14.298883Z",
     "start_time": "2020-10-11T18:10:32.255984Z"
    }
   },
   "outputs": [
    {
     "name": "stdout",
     "output_type": "stream",
     "text": [
      "DataFrame Shape:\n",
      " (435742, 12) \n",
      "\n",
      "\n"
     ]
    },
    {
     "data": {
      "text/plain": [
       "'DataFrame Head:'"
      ]
     },
     "metadata": {},
     "output_type": "display_data"
    },
    {
     "data": {
      "text/html": [
       "<div>\n",
       "<style scoped>\n",
       "    .dataframe tbody tr th:only-of-type {\n",
       "        vertical-align: middle;\n",
       "    }\n",
       "\n",
       "    .dataframe tbody tr th {\n",
       "        vertical-align: top;\n",
       "    }\n",
       "\n",
       "    .dataframe thead th {\n",
       "        text-align: right;\n",
       "    }\n",
       "</style>\n",
       "<table border=\"1\" class=\"dataframe\">\n",
       "  <thead>\n",
       "    <tr style=\"text-align: right;\">\n",
       "      <th></th>\n",
       "      <th>sampling_date</th>\n",
       "      <th>state</th>\n",
       "      <th>location</th>\n",
       "      <th>agency</th>\n",
       "      <th>type</th>\n",
       "      <th>so2</th>\n",
       "      <th>no2</th>\n",
       "      <th>rspm</th>\n",
       "      <th>spm</th>\n",
       "      <th>location_monitoring_station</th>\n",
       "      <th>pm2_5</th>\n",
       "      <th>date</th>\n",
       "    </tr>\n",
       "    <tr>\n",
       "      <th>stn_code</th>\n",
       "      <th></th>\n",
       "      <th></th>\n",
       "      <th></th>\n",
       "      <th></th>\n",
       "      <th></th>\n",
       "      <th></th>\n",
       "      <th></th>\n",
       "      <th></th>\n",
       "      <th></th>\n",
       "      <th></th>\n",
       "      <th></th>\n",
       "      <th></th>\n",
       "    </tr>\n",
       "  </thead>\n",
       "  <tbody>\n",
       "    <tr>\n",
       "      <th>150.0</th>\n",
       "      <td>February - M021990</td>\n",
       "      <td>Andhra Pradesh</td>\n",
       "      <td>Hyderabad</td>\n",
       "      <td>NaN</td>\n",
       "      <td>Residential, Rural and other Areas</td>\n",
       "      <td>4.8</td>\n",
       "      <td>17.4</td>\n",
       "      <td>NaN</td>\n",
       "      <td>NaN</td>\n",
       "      <td>NaN</td>\n",
       "      <td>NaN</td>\n",
       "      <td>2/1/90</td>\n",
       "    </tr>\n",
       "    <tr>\n",
       "      <th>151.0</th>\n",
       "      <td>February - M021990</td>\n",
       "      <td>Andhra Pradesh</td>\n",
       "      <td>Hyderabad</td>\n",
       "      <td>NaN</td>\n",
       "      <td>Industrial Area</td>\n",
       "      <td>3.1</td>\n",
       "      <td>7.0</td>\n",
       "      <td>NaN</td>\n",
       "      <td>NaN</td>\n",
       "      <td>NaN</td>\n",
       "      <td>NaN</td>\n",
       "      <td>2/1/90</td>\n",
       "    </tr>\n",
       "    <tr>\n",
       "      <th>152.0</th>\n",
       "      <td>February - M021990</td>\n",
       "      <td>Andhra Pradesh</td>\n",
       "      <td>Hyderabad</td>\n",
       "      <td>NaN</td>\n",
       "      <td>Residential, Rural and other Areas</td>\n",
       "      <td>6.2</td>\n",
       "      <td>28.5</td>\n",
       "      <td>NaN</td>\n",
       "      <td>NaN</td>\n",
       "      <td>NaN</td>\n",
       "      <td>NaN</td>\n",
       "      <td>2/1/90</td>\n",
       "    </tr>\n",
       "    <tr>\n",
       "      <th>150.0</th>\n",
       "      <td>March - M031990</td>\n",
       "      <td>Andhra Pradesh</td>\n",
       "      <td>Hyderabad</td>\n",
       "      <td>NaN</td>\n",
       "      <td>Residential, Rural and other Areas</td>\n",
       "      <td>6.3</td>\n",
       "      <td>14.7</td>\n",
       "      <td>NaN</td>\n",
       "      <td>NaN</td>\n",
       "      <td>NaN</td>\n",
       "      <td>NaN</td>\n",
       "      <td>3/1/90</td>\n",
       "    </tr>\n",
       "    <tr>\n",
       "      <th>151.0</th>\n",
       "      <td>March - M031990</td>\n",
       "      <td>Andhra Pradesh</td>\n",
       "      <td>Hyderabad</td>\n",
       "      <td>NaN</td>\n",
       "      <td>Industrial Area</td>\n",
       "      <td>4.7</td>\n",
       "      <td>7.5</td>\n",
       "      <td>NaN</td>\n",
       "      <td>NaN</td>\n",
       "      <td>NaN</td>\n",
       "      <td>NaN</td>\n",
       "      <td>3/1/90</td>\n",
       "    </tr>\n",
       "  </tbody>\n",
       "</table>\n",
       "</div>"
      ],
      "text/plain": [
       "               sampling_date           state   location agency  \\\n",
       "stn_code                                                         \n",
       "150.0     February - M021990  Andhra Pradesh  Hyderabad    NaN   \n",
       "151.0     February - M021990  Andhra Pradesh  Hyderabad    NaN   \n",
       "152.0     February - M021990  Andhra Pradesh  Hyderabad    NaN   \n",
       "150.0        March - M031990  Andhra Pradesh  Hyderabad    NaN   \n",
       "151.0        March - M031990  Andhra Pradesh  Hyderabad    NaN   \n",
       "\n",
       "                                        type  so2   no2  rspm  spm  \\\n",
       "stn_code                                                             \n",
       "150.0     Residential, Rural and other Areas  4.8  17.4   NaN  NaN   \n",
       "151.0                        Industrial Area  3.1   7.0   NaN  NaN   \n",
       "152.0     Residential, Rural and other Areas  6.2  28.5   NaN  NaN   \n",
       "150.0     Residential, Rural and other Areas  6.3  14.7   NaN  NaN   \n",
       "151.0                        Industrial Area  4.7   7.5   NaN  NaN   \n",
       "\n",
       "         location_monitoring_station  pm2_5    date  \n",
       "stn_code                                             \n",
       "150.0                            NaN    NaN  2/1/90  \n",
       "151.0                            NaN    NaN  2/1/90  \n",
       "152.0                            NaN    NaN  2/1/90  \n",
       "150.0                            NaN    NaN  3/1/90  \n",
       "151.0                            NaN    NaN  3/1/90  "
      ]
     },
     "metadata": {},
     "output_type": "display_data"
    },
    {
     "name": "stdout",
     "output_type": "stream",
     "text": [
      "\n",
      "\n",
      "DataFrame Statistical Description:\n",
      "                  so2            no2           rspm            spm        pm2_5\n",
      "count  401096.000000  419509.000000  395520.000000  198355.000000  9314.000000\n",
      "mean       10.829414      25.809623     108.832784     220.783480    40.791467\n",
      "std        11.177187      18.503086      74.872430     151.395457    30.832525\n",
      "min         0.000000       0.000000       0.000000       0.000000     3.000000\n",
      "25%         5.000000      14.000000      56.000000     111.000000    24.000000\n",
      "50%         8.000000      22.000000      90.000000     187.000000    32.000000\n",
      "75%        13.700000      32.200000     142.000000     296.000000    46.000000\n",
      "max       909.000000     876.000000    6307.033333    3380.000000   504.000000 \n",
      "\n",
      "\n",
      "DataFrame Column Types:\n",
      " sampling_date                   object\n",
      "state                           object\n",
      "location                        object\n",
      "agency                          object\n",
      "type                            object\n",
      "so2                            float64\n",
      "no2                            float64\n",
      "rspm                           float64\n",
      "spm                            float64\n",
      "location_monitoring_station     object\n",
      "pm2_5                          float64\n",
      "date                            object\n",
      "dtype: object \n",
      "\n",
      "\n",
      "\n",
      "DataFrame count:  \n",
      " sampling_date                  435739\n",
      "state                          435742\n",
      "location                       435739\n",
      "agency                         286261\n",
      "type                           430349\n",
      "so2                            401096\n",
      "no2                            419509\n",
      "rspm                           395520\n",
      "spm                            198355\n",
      "location_monitoring_station    408251\n",
      "pm2_5                            9314\n",
      "date                           435735\n",
      "dtype: int64\n",
      "\n",
      "\n",
      "DataFrame Null Value Count:\n",
      " sampling_date                       3\n",
      "state                               0\n",
      "location                            3\n",
      "agency                         149481\n",
      "type                             5393\n",
      "so2                             34646\n",
      "no2                             16233\n",
      "rspm                            40222\n",
      "spm                            237387\n",
      "location_monitoring_station     27491\n",
      "pm2_5                          426428\n",
      "date                                7\n",
      "dtype: int64\n",
      "\n",
      "\n",
      "Number of Duplicated Rows:\n",
      " 758\n"
     ]
    }
   ],
   "source": [
    "import pandas as pd\n",
    "\n",
    "my_data = pd.read_csv('data/data.csv', index_col=0)\n",
    "\n",
    "eda(my_data)"
   ]
  },
  {
   "cell_type": "markdown",
   "metadata": {},
   "source": [
    "---\n"
   ]
  },
  {
   "cell_type": "markdown",
   "metadata": {},
   "source": [
    "### Part 2\n",
    "\n",
    "Now let's see how to make this the first of your own library of functions for conducting an EDA in the future. "
   ]
  },
  {
   "cell_type": "code",
   "execution_count": 34,
   "metadata": {
    "ExecuteTime": {
     "end_time": "2020-10-11T18:25:27.222793Z",
     "start_time": "2020-10-11T18:25:27.201146Z"
    },
    "hide_input": false,
    "scrolled": false
   },
   "outputs": [
    {
     "name": "stdout",
     "output_type": "stream",
     "text": [
      "The time is  11:25:27 \n",
      "\n",
      "😀 GOOD MORNING! \n",
      "\n",
      "\n",
      " \n",
      " ____________________________________________________ \n",
      " \n",
      " YOUR FORTUNE COOKIE THOUGHT FOR TODAY:  \n",
      " \n",
      " Trying to define yourself is like tyrying to bite your own teeth. \n",
      " \n",
      " ____________________________________________________ \n",
      " \n",
      "\n",
      "🧐 I am initiating the following for us: \n",
      " \n",
      "\n",
      "1.  Warnings: Off\n",
      "2.  Pandas Initiated as pd\n",
      "3.  Numpy Initiated as np\n",
      "4.  Matplotlib.pyplot Initiated as plt\n",
      "5.  Seaborn Initiated as sns. Style is set at 'darkgrid'.\n",
      "6.  ggplot is having problems.\n",
      "7.  Matplotlib Initiated as mpl. Matplotlib style set to \"fivethirtyeight\"\n",
      "8.  tqdm Initiated\n",
      "9.  Random Seed set at: 42\n",
      "10. IPython Display Initiated\n",
      "11. BeautifulSoup Initiated\n",
      "12. Import csv Initiated\n",
      "13. Import random Initiated \n",
      "\n",
      "14. Any other library that you will need for the functions will be initiated as you call for them.\n",
      "___________________________________________ \n",
      " \n",
      " 🧐 The following functions are also ready: \n",
      "\n",
      "\n",
      " eda(df) function ready for use. \n",
      " \t The eda(df) function will return a basic eda on our DataFrame. This includes the DataFrame's shape,\n",
      " \t description, data types, statistical information.\n",
      "\n",
      " vda(df) function ready for use. \n",
      " \t This function will return a visual data analysis of both the numeric and categorical columns in \n",
      " \t the DataFrame.\n",
      "\n",
      " histogram(df) function ready for use - in the event you want to do a separate one. \n",
      " \t This function will return a histogram of both the numeric and categorical columns in \n",
      " \t the DataFrame.\n",
      "\n",
      " two_dimension_histogram(x, y) function is ready for use - in the event you want to do a separate one. \n",
      " \t This function will return a two dimensional histogram. This will provide counts of features  \n",
      " \t against another feature.\n",
      "\n",
      " pairplot(df, feature) function ready for use - in the event you want to do a separate one. \n",
      " \t This function will return a pairplot of both the numeric columns in the DataFrame \n",
      " \t against the feature you specify.\n",
      "\n",
      " heatmap(df) function ready for use - in the event you want to do a separate one. \n",
      " \t This function will return a heatmap of the numeric columns in the DataFrame.\n",
      "\n",
      " kdeplot(df) function ready for use - in the event you want to do a separate one. \n",
      " \t This function will return a kdeplot of the categorical columns in the DataFrame.\n",
      "\n",
      " correlations(compare_feature, df) function ready for use. \n",
      " \t This function will return a list of the correlations between the numeric columns in the DataFrame. \n",
      " \t Additionally, this function will return three evaluations of the correlations (STRONGLY, MILDLY, or \n",
      " \t NEGATIVELY). STRONGLY correlated are those greater than 0.50. MILDLY correlated are those between 0.40 \n",
      " \t and 0.49. NEGATIVELY correlated are any negative correlations. \n",
      " \t It will return strong_correlation, mild_correlation, and neg_correlation. \n",
      " \n",
      " \t IT WILL NOT RETURN AN EVALUATION FOR CORRELATIONS BETWEEN 0.0 - 0.39.\n",
      "\n",
      " do_we_need_to_clean(df) function ready for use. \n",
      " \t This function will evaluate our dataset for null values. It will return a recommended_drop_list \n",
      " \t of features where more than 10.01% of total values for that feature are null or missing.\n",
      " \t When used in conjunction with drop_recommended_list(df), this function makes cleaning data just \n",
      " \t a bit easier. However, IT IS NOT DESIGNED TO DO ALL OF THE DATA CLEANING.\n",
      "\n",
      " drop_recommended_list(df) function ready for use. \n",
      " \t This function will delete from the DataFrame the features identified in the \"recommended_drop_list\" \n",
      " \t from the \"do_we_need_to_clean(df)\" function.\n",
      "\n",
      " break_down_features(df) function ready for use. \n",
      " \t This function will split the numeric and categorical features into two sets: num_columns, cat_columns.\n",
      "\n",
      " predictive_strength(df) function ready for use. \n",
      " \t This function determines the prescriptive strength of numeric features in our dataset. 'Prescriptive \n",
      " \t Strength' equals the measure of precentage of null values plus skew of the feature's data subtracted  \n",
      " \t from 100%. The result tells us the feature's value's confidence score. A 100 score says that there are \n",
      " \t no nulls within the data set and there is no skew to the data.\n",
      "\n",
      " pandas_profiling(df) function ready for use. \n",
      " \t The pandas_profiling(df) function will return an advanced eda on our DataFrame. This includes the  \n",
      " \t DataFrame's shape, description, data types, statistical information.\n",
      "\n",
      " feature_review(df) function ready for use. \n",
      " \t The feature_review(df) function will ask the analyst to look at each feature one at a time. \n",
      " \t During each examination, Python will show the analyst salient aspects of each feature and pose to \n",
      " \t analyst the ability to change the feature type and delete the feature from the dataset.\n",
      "\n",
      " ___________________________________________ \n",
      "\n",
      "\n",
      " \n",
      " 🙏 🙏 PLEASE INITIATE %matplotlib inline OR %matplotlib notebook before we go further. Thank you!\n"
     ]
    }
   ],
   "source": [
    "%run lib/__eda_init__.py"
   ]
  },
  {
   "cell_type": "code",
   "execution_count": 35,
   "metadata": {
    "ExecuteTime": {
     "end_time": "2020-10-11T18:25:29.062579Z",
     "start_time": "2020-10-11T18:25:29.059026Z"
    }
   },
   "outputs": [],
   "source": [
    "%matplotlib inline"
   ]
  },
  {
   "cell_type": "code",
   "execution_count": 36,
   "metadata": {
    "ExecuteTime": {
     "end_time": "2020-10-11T18:25:30.576818Z",
     "start_time": "2020-10-11T18:25:30.183896Z"
    },
    "scrolled": false
   },
   "outputs": [
    {
     "name": "stdout",
     "output_type": "stream",
     "text": [
      "\n",
      " df total missing values percentage:  \n",
      " 19.387593780009478\n",
      "_______________________________________________\n"
     ]
    },
    {
     "data": {
      "text/plain": [
       "'df Head: '"
      ]
     },
     "metadata": {},
     "output_type": "display_data"
    },
    {
     "data": {
      "text/html": [
       "<div>\n",
       "<style scoped>\n",
       "    .dataframe tbody tr th:only-of-type {\n",
       "        vertical-align: middle;\n",
       "    }\n",
       "\n",
       "    .dataframe tbody tr th {\n",
       "        vertical-align: top;\n",
       "    }\n",
       "\n",
       "    .dataframe thead th {\n",
       "        text-align: right;\n",
       "    }\n",
       "</style>\n",
       "<table border=\"1\" class=\"dataframe\">\n",
       "  <thead>\n",
       "    <tr style=\"text-align: right;\">\n",
       "      <th></th>\n",
       "      <th>state</th>\n",
       "      <th>location</th>\n",
       "      <th>type</th>\n",
       "      <th>so2</th>\n",
       "      <th>no2</th>\n",
       "      <th>rspm</th>\n",
       "      <th>spm</th>\n",
       "      <th>pm2_5</th>\n",
       "      <th>date</th>\n",
       "    </tr>\n",
       "  </thead>\n",
       "  <tbody>\n",
       "    <tr>\n",
       "      <th>0</th>\n",
       "      <td>Andhra Pradesh</td>\n",
       "      <td>Hyderabad</td>\n",
       "      <td>RRO</td>\n",
       "      <td>4.8</td>\n",
       "      <td>17.4</td>\n",
       "      <td>NaN</td>\n",
       "      <td>NaN</td>\n",
       "      <td>NaN</td>\n",
       "      <td>1990-02-01</td>\n",
       "    </tr>\n",
       "    <tr>\n",
       "      <th>1</th>\n",
       "      <td>Andhra Pradesh</td>\n",
       "      <td>Hyderabad</td>\n",
       "      <td>Industrial</td>\n",
       "      <td>3.1</td>\n",
       "      <td>7.0</td>\n",
       "      <td>NaN</td>\n",
       "      <td>NaN</td>\n",
       "      <td>NaN</td>\n",
       "      <td>1990-02-01</td>\n",
       "    </tr>\n",
       "    <tr>\n",
       "      <th>2</th>\n",
       "      <td>Andhra Pradesh</td>\n",
       "      <td>Hyderabad</td>\n",
       "      <td>RRO</td>\n",
       "      <td>6.2</td>\n",
       "      <td>28.5</td>\n",
       "      <td>NaN</td>\n",
       "      <td>NaN</td>\n",
       "      <td>NaN</td>\n",
       "      <td>1990-02-01</td>\n",
       "    </tr>\n",
       "    <tr>\n",
       "      <th>3</th>\n",
       "      <td>Andhra Pradesh</td>\n",
       "      <td>Hyderabad</td>\n",
       "      <td>RRO</td>\n",
       "      <td>6.3</td>\n",
       "      <td>14.7</td>\n",
       "      <td>NaN</td>\n",
       "      <td>NaN</td>\n",
       "      <td>NaN</td>\n",
       "      <td>1990-03-01</td>\n",
       "    </tr>\n",
       "    <tr>\n",
       "      <th>4</th>\n",
       "      <td>Andhra Pradesh</td>\n",
       "      <td>Hyderabad</td>\n",
       "      <td>Industrial</td>\n",
       "      <td>4.7</td>\n",
       "      <td>7.5</td>\n",
       "      <td>NaN</td>\n",
       "      <td>NaN</td>\n",
       "      <td>NaN</td>\n",
       "      <td>1990-03-01</td>\n",
       "    </tr>\n",
       "  </tbody>\n",
       "</table>\n",
       "</div>"
      ],
      "text/plain": [
       "            state   location        type  so2   no2  rspm  spm  pm2_5  \\\n",
       "0  Andhra Pradesh  Hyderabad         RRO  4.8  17.4   NaN  NaN    NaN   \n",
       "1  Andhra Pradesh  Hyderabad  Industrial  3.1   7.0   NaN  NaN    NaN   \n",
       "2  Andhra Pradesh  Hyderabad         RRO  6.2  28.5   NaN  NaN    NaN   \n",
       "3  Andhra Pradesh  Hyderabad         RRO  6.3  14.7   NaN  NaN    NaN   \n",
       "4  Andhra Pradesh  Hyderabad  Industrial  4.7   7.5   NaN  NaN    NaN   \n",
       "\n",
       "        date  \n",
       "0 1990-02-01  \n",
       "1 1990-02-01  \n",
       "2 1990-02-01  \n",
       "3 1990-03-01  \n",
       "4 1990-03-01  "
      ]
     },
     "metadata": {},
     "output_type": "display_data"
    },
    {
     "name": "stdout",
     "output_type": "stream",
     "text": [
      "_______________________________________________\n",
      "observations (rows):  435742 \n",
      " features (columns):  9\n",
      "_______________________________________________\n",
      "\n",
      " df keys:  \n",
      " Index(['state', 'location', 'type', 'so2', 'no2', 'rspm', 'spm', 'pm2_5',\n",
      "       'date'],\n",
      "      dtype='object')\n",
      "_______________________________________________\n"
     ]
    },
    {
     "data": {
      "text/plain": [
       "'df describe: '"
      ]
     },
     "metadata": {},
     "output_type": "display_data"
    },
    {
     "data": {
      "text/html": [
       "<div>\n",
       "<style scoped>\n",
       "    .dataframe tbody tr th:only-of-type {\n",
       "        vertical-align: middle;\n",
       "    }\n",
       "\n",
       "    .dataframe tbody tr th {\n",
       "        vertical-align: top;\n",
       "    }\n",
       "\n",
       "    .dataframe thead th {\n",
       "        text-align: right;\n",
       "    }\n",
       "</style>\n",
       "<table border=\"1\" class=\"dataframe\">\n",
       "  <thead>\n",
       "    <tr style=\"text-align: right;\">\n",
       "      <th></th>\n",
       "      <th>so2</th>\n",
       "      <th>no2</th>\n",
       "      <th>rspm</th>\n",
       "      <th>spm</th>\n",
       "      <th>pm2_5</th>\n",
       "    </tr>\n",
       "  </thead>\n",
       "  <tbody>\n",
       "    <tr>\n",
       "      <th>count</th>\n",
       "      <td>401096.000000</td>\n",
       "      <td>419509.000000</td>\n",
       "      <td>395520.000000</td>\n",
       "      <td>198355.000000</td>\n",
       "      <td>9314.000000</td>\n",
       "    </tr>\n",
       "    <tr>\n",
       "      <th>mean</th>\n",
       "      <td>10.829414</td>\n",
       "      <td>25.809623</td>\n",
       "      <td>108.832784</td>\n",
       "      <td>220.783480</td>\n",
       "      <td>40.791467</td>\n",
       "    </tr>\n",
       "    <tr>\n",
       "      <th>std</th>\n",
       "      <td>11.177187</td>\n",
       "      <td>18.503086</td>\n",
       "      <td>74.872430</td>\n",
       "      <td>151.395457</td>\n",
       "      <td>30.832525</td>\n",
       "    </tr>\n",
       "    <tr>\n",
       "      <th>min</th>\n",
       "      <td>0.000000</td>\n",
       "      <td>0.000000</td>\n",
       "      <td>0.000000</td>\n",
       "      <td>0.000000</td>\n",
       "      <td>3.000000</td>\n",
       "    </tr>\n",
       "    <tr>\n",
       "      <th>25%</th>\n",
       "      <td>5.000000</td>\n",
       "      <td>14.000000</td>\n",
       "      <td>56.000000</td>\n",
       "      <td>111.000000</td>\n",
       "      <td>24.000000</td>\n",
       "    </tr>\n",
       "    <tr>\n",
       "      <th>50%</th>\n",
       "      <td>8.000000</td>\n",
       "      <td>22.000000</td>\n",
       "      <td>90.000000</td>\n",
       "      <td>187.000000</td>\n",
       "      <td>32.000000</td>\n",
       "    </tr>\n",
       "    <tr>\n",
       "      <th>75%</th>\n",
       "      <td>13.700000</td>\n",
       "      <td>32.200000</td>\n",
       "      <td>142.000000</td>\n",
       "      <td>296.000000</td>\n",
       "      <td>46.000000</td>\n",
       "    </tr>\n",
       "    <tr>\n",
       "      <th>max</th>\n",
       "      <td>909.000000</td>\n",
       "      <td>876.000000</td>\n",
       "      <td>6307.033333</td>\n",
       "      <td>3380.000000</td>\n",
       "      <td>504.000000</td>\n",
       "    </tr>\n",
       "  </tbody>\n",
       "</table>\n",
       "</div>"
      ],
      "text/plain": [
       "                 so2            no2           rspm            spm        pm2_5\n",
       "count  401096.000000  419509.000000  395520.000000  198355.000000  9314.000000\n",
       "mean       10.829414      25.809623     108.832784     220.783480    40.791467\n",
       "std        11.177187      18.503086      74.872430     151.395457    30.832525\n",
       "min         0.000000       0.000000       0.000000       0.000000     3.000000\n",
       "25%         5.000000      14.000000      56.000000     111.000000    24.000000\n",
       "50%         8.000000      22.000000      90.000000     187.000000    32.000000\n",
       "75%        13.700000      32.200000     142.000000     296.000000    46.000000\n",
       "max       909.000000     876.000000    6307.033333    3380.000000   504.000000"
      ]
     },
     "metadata": {},
     "output_type": "display_data"
    },
    {
     "name": "stdout",
     "output_type": "stream",
     "text": [
      "_______________________________________________\n",
      "<class 'pandas.core.frame.DataFrame'>\n",
      "RangeIndex: 435742 entries, 0 to 435741\n",
      "Data columns (total 9 columns):\n",
      "state       435742 non-null object\n",
      "location    435739 non-null object\n",
      "type        430349 non-null object\n",
      "so2         401096 non-null float64\n",
      "no2         419509 non-null float64\n",
      "rspm        395520 non-null float64\n",
      "spm         198355 non-null float64\n",
      "pm2_5       9314 non-null float64\n",
      "date        435735 non-null datetime64[ns]\n",
      "dtypes: datetime64[ns](1), float64(5), object(3)\n",
      "memory usage: 29.9+ MB\n",
      "\n",
      " df info:  \n",
      " None\n",
      "_______________________________________________\n",
      "\n",
      " df types:  \n",
      " state               object\n",
      "location            object\n",
      "type                object\n",
      "so2                float64\n",
      "no2                float64\n",
      "rspm               float64\n",
      "spm                float64\n",
      "pm2_5              float64\n",
      "date        datetime64[ns]\n",
      "dtype: object\n",
      "_______________________________________________\n",
      "\n",
      " df count:  \n",
      " state       435742\n",
      "location    435739\n",
      "type        430349\n",
      "so2         401096\n",
      "no2         419509\n",
      "rspm        395520\n",
      "spm         198355\n",
      "pm2_5         9314\n",
      "date        435735\n",
      "dtype: int64\n",
      "_______________________________________________\n",
      "\n",
      " df.isnull() count:  \n",
      " state            0\n",
      "location         3\n",
      "type          5393\n",
      "so2          34646\n",
      "no2          16233\n",
      "rspm         40222\n",
      "spm         237387\n",
      "pm2_5       426428\n",
      "date             7\n",
      "dtype: int64\n",
      "_______________________________________________\n",
      "There are 5  numeric columns in this data set. \n",
      "\n",
      "The numeric columns are:  \n",
      " ['so2', 'no2', 'rspm', 'spm', 'pm2_5'] \n",
      "\n",
      "_______________________________________________ \n",
      "\n",
      "________________________________________________ \n",
      " \n",
      " Consider using the pairplot(df, feature) for  this analysis. \n",
      " \n",
      " __________________________________________________\n",
      "There are 4  categoric columns in this data set. \n",
      "\n",
      "The categorical columns are:  \n",
      " ['state', 'location', 'type', 'date'] \n",
      "\n",
      "_______________________________________________ \n",
      "\n",
      "\n",
      " \n",
      " May I suggest that you run a VDA - vda(df) - next?\n"
     ]
    }
   ],
   "source": [
    "eda(df)"
   ]
  },
  {
   "cell_type": "code",
   "execution_count": 37,
   "metadata": {
    "ExecuteTime": {
     "end_time": "2020-10-11T18:25:33.086271Z",
     "start_time": "2020-10-11T18:25:33.080763Z"
    }
   },
   "outputs": [
    {
     "name": "stdout",
     "output_type": "stream",
     "text": [
      "There are  5  numeric columns and  4 categorical columns in this dataset.\n"
     ]
    },
    {
     "data": {
      "text/plain": [
       "(['so2', 'no2', 'rspm', 'spm', 'pm2_5'], ['state', 'location', 'type', 'date'])"
      ]
     },
     "execution_count": 37,
     "metadata": {},
     "output_type": "execute_result"
    }
   ],
   "source": [
    "break_down_features(df)"
   ]
  },
  {
   "cell_type": "code",
   "execution_count": 38,
   "metadata": {
    "ExecuteTime": {
     "end_time": "2020-10-11T18:25:38.424225Z",
     "start_time": "2020-10-11T18:25:38.421654Z"
    }
   },
   "outputs": [],
   "source": [
    "# !pip install pandas-profiling"
   ]
  },
  {
   "cell_type": "code",
   "execution_count": null,
   "metadata": {
    "ExecuteTime": {
     "start_time": "2020-10-11T18:25:39.137Z"
    },
    "scrolled": true
   },
   "outputs": [
    {
     "name": "stdout",
     "output_type": "stream",
     "text": [
      "Your dataset is 435742 entries long, which is pretty big.\n",
      "Do you wish to continue? [y or n]y\n",
      "Go get a coffee and visit someone while I process this. \n",
      "\n"
     ]
    },
    {
     "data": {
      "application/vnd.jupyter.widget-view+json": {
       "model_id": "fa7de1c9072a4275873c7b020a176fd3",
       "version_major": 2,
       "version_minor": 0
      },
      "text/plain": [
       "HBox(children=(FloatProgress(value=0.0, description='variables', max=9.0, style=ProgressStyle(description_widt…"
      ]
     },
     "metadata": {},
     "output_type": "display_data"
    }
   ],
   "source": [
    "pandas_profiling(df)"
   ]
  },
  {
   "cell_type": "code",
   "execution_count": null,
   "metadata": {},
   "outputs": [],
   "source": []
  }
 ],
 "metadata": {
  "hide_input": false,
  "kernelspec": {
   "display_name": "Python 3",
   "language": "python",
   "name": "python3"
  },
  "language_info": {
   "codemirror_mode": {
    "name": "ipython",
    "version": 3
   },
   "file_extension": ".py",
   "mimetype": "text/x-python",
   "name": "python",
   "nbconvert_exporter": "python",
   "pygments_lexer": "ipython3",
   "version": "3.7.3"
  },
  "toc": {
   "base_numbering": 1,
   "nav_menu": {},
   "number_sections": true,
   "sideBar": true,
   "skip_h1_title": false,
   "title_cell": "Table of Contents",
   "title_sidebar": "Contents",
   "toc_cell": false,
   "toc_position": {
    "height": "calc(100% - 180px)",
    "left": "10px",
    "top": "150px",
    "width": "285.391px"
   },
   "toc_section_display": true,
   "toc_window_display": true
  }
 },
 "nbformat": 4,
 "nbformat_minor": 2
}
